{
 "cells": [
  {
   "cell_type": "markdown",
   "id": "42aceacc",
   "metadata": {},
   "source": [
    "# SUPERMARKET SALES"
   ]
  },
  {
   "cell_type": "markdown",
   "id": "25e4ec73",
   "metadata": {},
   "source": [
    "##  Duomenų įsikėlimas ir tvarkymas"
   ]
  },
  {
   "cell_type": "code",
   "execution_count": 245,
   "id": "74b47157",
   "metadata": {},
   "outputs": [],
   "source": [
    "import pandas as pd\n",
    "import numpy as np"
   ]
  },
  {
   "cell_type": "code",
   "execution_count": 246,
   "id": "6c257d3b",
   "metadata": {
    "scrolled": false
   },
   "outputs": [
    {
     "name": "stdout",
     "output_type": "stream",
     "text": [
      "<class 'pandas.core.frame.DataFrame'>\n",
      "RangeIndex: 1000 entries, 0 to 999\n",
      "Data columns (total 17 columns):\n",
      " #   Column                   Non-Null Count  Dtype  \n",
      "---  ------                   --------------  -----  \n",
      " 0   Invoice ID               1000 non-null   object \n",
      " 1   Branch                   1000 non-null   object \n",
      " 2   City                     1000 non-null   object \n",
      " 3   Customer type            1000 non-null   object \n",
      " 4   Gender                   1000 non-null   object \n",
      " 5   Product line             1000 non-null   object \n",
      " 6   Unit price               1000 non-null   float64\n",
      " 7   Quantity                 1000 non-null   int64  \n",
      " 8   Tax 5%                   1000 non-null   float64\n",
      " 9   Total                    1000 non-null   float64\n",
      " 10  Date                     1000 non-null   object \n",
      " 11  Time                     1000 non-null   object \n",
      " 12  Payment                  1000 non-null   object \n",
      " 13  cogs                     1000 non-null   float64\n",
      " 14  gross margin percentage  1000 non-null   float64\n",
      " 15  gross income             1000 non-null   float64\n",
      " 16  Rating                   1000 non-null   float64\n",
      "dtypes: float64(7), int64(1), object(9)\n",
      "memory usage: 132.9+ KB\n"
     ]
    },
    {
     "data": {
      "text/html": [
       "<div>\n",
       "<style scoped>\n",
       "    .dataframe tbody tr th:only-of-type {\n",
       "        vertical-align: middle;\n",
       "    }\n",
       "\n",
       "    .dataframe tbody tr th {\n",
       "        vertical-align: top;\n",
       "    }\n",
       "\n",
       "    .dataframe thead th {\n",
       "        text-align: right;\n",
       "    }\n",
       "</style>\n",
       "<table border=\"1\" class=\"dataframe\">\n",
       "  <thead>\n",
       "    <tr style=\"text-align: right;\">\n",
       "      <th></th>\n",
       "      <th>Invoice ID</th>\n",
       "      <th>Branch</th>\n",
       "      <th>City</th>\n",
       "      <th>Customer type</th>\n",
       "      <th>Gender</th>\n",
       "      <th>Product line</th>\n",
       "      <th>Unit price</th>\n",
       "      <th>Quantity</th>\n",
       "      <th>Tax 5%</th>\n",
       "      <th>Total</th>\n",
       "      <th>Date</th>\n",
       "      <th>Time</th>\n",
       "      <th>Payment</th>\n",
       "      <th>cogs</th>\n",
       "      <th>gross margin percentage</th>\n",
       "      <th>gross income</th>\n",
       "      <th>Rating</th>\n",
       "    </tr>\n",
       "  </thead>\n",
       "  <tbody>\n",
       "    <tr>\n",
       "      <th>0</th>\n",
       "      <td>750-67-8428</td>\n",
       "      <td>A</td>\n",
       "      <td>Yangon</td>\n",
       "      <td>Member</td>\n",
       "      <td>Female</td>\n",
       "      <td>Health and beauty</td>\n",
       "      <td>74.69</td>\n",
       "      <td>7</td>\n",
       "      <td>26.1415</td>\n",
       "      <td>548.9715</td>\n",
       "      <td>1/5/2019</td>\n",
       "      <td>13:08</td>\n",
       "      <td>Ewallet</td>\n",
       "      <td>522.83</td>\n",
       "      <td>4.761905</td>\n",
       "      <td>26.1415</td>\n",
       "      <td>9.1</td>\n",
       "    </tr>\n",
       "    <tr>\n",
       "      <th>1</th>\n",
       "      <td>226-31-3081</td>\n",
       "      <td>C</td>\n",
       "      <td>Naypyitaw</td>\n",
       "      <td>Normal</td>\n",
       "      <td>Female</td>\n",
       "      <td>Electronic accessories</td>\n",
       "      <td>15.28</td>\n",
       "      <td>5</td>\n",
       "      <td>3.8200</td>\n",
       "      <td>80.2200</td>\n",
       "      <td>3/8/2019</td>\n",
       "      <td>10:29</td>\n",
       "      <td>Cash</td>\n",
       "      <td>76.40</td>\n",
       "      <td>4.761905</td>\n",
       "      <td>3.8200</td>\n",
       "      <td>9.6</td>\n",
       "    </tr>\n",
       "    <tr>\n",
       "      <th>2</th>\n",
       "      <td>631-41-3108</td>\n",
       "      <td>A</td>\n",
       "      <td>Yangon</td>\n",
       "      <td>Normal</td>\n",
       "      <td>Male</td>\n",
       "      <td>Home and lifestyle</td>\n",
       "      <td>46.33</td>\n",
       "      <td>7</td>\n",
       "      <td>16.2155</td>\n",
       "      <td>340.5255</td>\n",
       "      <td>3/3/2019</td>\n",
       "      <td>13:23</td>\n",
       "      <td>Credit card</td>\n",
       "      <td>324.31</td>\n",
       "      <td>4.761905</td>\n",
       "      <td>16.2155</td>\n",
       "      <td>7.4</td>\n",
       "    </tr>\n",
       "    <tr>\n",
       "      <th>3</th>\n",
       "      <td>123-19-1176</td>\n",
       "      <td>A</td>\n",
       "      <td>Yangon</td>\n",
       "      <td>Member</td>\n",
       "      <td>Male</td>\n",
       "      <td>Health and beauty</td>\n",
       "      <td>58.22</td>\n",
       "      <td>8</td>\n",
       "      <td>23.2880</td>\n",
       "      <td>489.0480</td>\n",
       "      <td>1/27/2019</td>\n",
       "      <td>20:33</td>\n",
       "      <td>Ewallet</td>\n",
       "      <td>465.76</td>\n",
       "      <td>4.761905</td>\n",
       "      <td>23.2880</td>\n",
       "      <td>8.4</td>\n",
       "    </tr>\n",
       "    <tr>\n",
       "      <th>4</th>\n",
       "      <td>373-73-7910</td>\n",
       "      <td>A</td>\n",
       "      <td>Yangon</td>\n",
       "      <td>Normal</td>\n",
       "      <td>Male</td>\n",
       "      <td>Sports and travel</td>\n",
       "      <td>86.31</td>\n",
       "      <td>7</td>\n",
       "      <td>30.2085</td>\n",
       "      <td>634.3785</td>\n",
       "      <td>2/8/2019</td>\n",
       "      <td>10:37</td>\n",
       "      <td>Ewallet</td>\n",
       "      <td>604.17</td>\n",
       "      <td>4.761905</td>\n",
       "      <td>30.2085</td>\n",
       "      <td>5.3</td>\n",
       "    </tr>\n",
       "    <tr>\n",
       "      <th>5</th>\n",
       "      <td>699-14-3026</td>\n",
       "      <td>C</td>\n",
       "      <td>Naypyitaw</td>\n",
       "      <td>Normal</td>\n",
       "      <td>Male</td>\n",
       "      <td>Electronic accessories</td>\n",
       "      <td>85.39</td>\n",
       "      <td>7</td>\n",
       "      <td>29.8865</td>\n",
       "      <td>627.6165</td>\n",
       "      <td>3/25/2019</td>\n",
       "      <td>18:30</td>\n",
       "      <td>Ewallet</td>\n",
       "      <td>597.73</td>\n",
       "      <td>4.761905</td>\n",
       "      <td>29.8865</td>\n",
       "      <td>4.1</td>\n",
       "    </tr>\n",
       "    <tr>\n",
       "      <th>6</th>\n",
       "      <td>355-53-5943</td>\n",
       "      <td>A</td>\n",
       "      <td>Yangon</td>\n",
       "      <td>Member</td>\n",
       "      <td>Female</td>\n",
       "      <td>Electronic accessories</td>\n",
       "      <td>68.84</td>\n",
       "      <td>6</td>\n",
       "      <td>20.6520</td>\n",
       "      <td>433.6920</td>\n",
       "      <td>2/25/2019</td>\n",
       "      <td>14:36</td>\n",
       "      <td>Ewallet</td>\n",
       "      <td>413.04</td>\n",
       "      <td>4.761905</td>\n",
       "      <td>20.6520</td>\n",
       "      <td>5.8</td>\n",
       "    </tr>\n",
       "    <tr>\n",
       "      <th>7</th>\n",
       "      <td>315-22-5665</td>\n",
       "      <td>C</td>\n",
       "      <td>Naypyitaw</td>\n",
       "      <td>Normal</td>\n",
       "      <td>Female</td>\n",
       "      <td>Home and lifestyle</td>\n",
       "      <td>73.56</td>\n",
       "      <td>10</td>\n",
       "      <td>36.7800</td>\n",
       "      <td>772.3800</td>\n",
       "      <td>2/24/2019</td>\n",
       "      <td>11:38</td>\n",
       "      <td>Ewallet</td>\n",
       "      <td>735.60</td>\n",
       "      <td>4.761905</td>\n",
       "      <td>36.7800</td>\n",
       "      <td>8.0</td>\n",
       "    </tr>\n",
       "    <tr>\n",
       "      <th>8</th>\n",
       "      <td>665-32-9167</td>\n",
       "      <td>A</td>\n",
       "      <td>Yangon</td>\n",
       "      <td>Member</td>\n",
       "      <td>Female</td>\n",
       "      <td>Health and beauty</td>\n",
       "      <td>36.26</td>\n",
       "      <td>2</td>\n",
       "      <td>3.6260</td>\n",
       "      <td>76.1460</td>\n",
       "      <td>1/10/2019</td>\n",
       "      <td>17:15</td>\n",
       "      <td>Credit card</td>\n",
       "      <td>72.52</td>\n",
       "      <td>4.761905</td>\n",
       "      <td>3.6260</td>\n",
       "      <td>7.2</td>\n",
       "    </tr>\n",
       "    <tr>\n",
       "      <th>9</th>\n",
       "      <td>692-92-5582</td>\n",
       "      <td>B</td>\n",
       "      <td>Mandalay</td>\n",
       "      <td>Member</td>\n",
       "      <td>Female</td>\n",
       "      <td>Food and beverages</td>\n",
       "      <td>54.84</td>\n",
       "      <td>3</td>\n",
       "      <td>8.2260</td>\n",
       "      <td>172.7460</td>\n",
       "      <td>2/20/2019</td>\n",
       "      <td>13:27</td>\n",
       "      <td>Credit card</td>\n",
       "      <td>164.52</td>\n",
       "      <td>4.761905</td>\n",
       "      <td>8.2260</td>\n",
       "      <td>5.9</td>\n",
       "    </tr>\n",
       "  </tbody>\n",
       "</table>\n",
       "</div>"
      ],
      "text/plain": [
       "    Invoice ID Branch       City Customer type  Gender  \\\n",
       "0  750-67-8428      A     Yangon        Member  Female   \n",
       "1  226-31-3081      C  Naypyitaw        Normal  Female   \n",
       "2  631-41-3108      A     Yangon        Normal    Male   \n",
       "3  123-19-1176      A     Yangon        Member    Male   \n",
       "4  373-73-7910      A     Yangon        Normal    Male   \n",
       "5  699-14-3026      C  Naypyitaw        Normal    Male   \n",
       "6  355-53-5943      A     Yangon        Member  Female   \n",
       "7  315-22-5665      C  Naypyitaw        Normal  Female   \n",
       "8  665-32-9167      A     Yangon        Member  Female   \n",
       "9  692-92-5582      B   Mandalay        Member  Female   \n",
       "\n",
       "             Product line  Unit price  Quantity   Tax 5%     Total       Date  \\\n",
       "0       Health and beauty       74.69         7  26.1415  548.9715   1/5/2019   \n",
       "1  Electronic accessories       15.28         5   3.8200   80.2200   3/8/2019   \n",
       "2      Home and lifestyle       46.33         7  16.2155  340.5255   3/3/2019   \n",
       "3       Health and beauty       58.22         8  23.2880  489.0480  1/27/2019   \n",
       "4       Sports and travel       86.31         7  30.2085  634.3785   2/8/2019   \n",
       "5  Electronic accessories       85.39         7  29.8865  627.6165  3/25/2019   \n",
       "6  Electronic accessories       68.84         6  20.6520  433.6920  2/25/2019   \n",
       "7      Home and lifestyle       73.56        10  36.7800  772.3800  2/24/2019   \n",
       "8       Health and beauty       36.26         2   3.6260   76.1460  1/10/2019   \n",
       "9      Food and beverages       54.84         3   8.2260  172.7460  2/20/2019   \n",
       "\n",
       "    Time      Payment    cogs  gross margin percentage  gross income  Rating  \n",
       "0  13:08      Ewallet  522.83                 4.761905       26.1415     9.1  \n",
       "1  10:29         Cash   76.40                 4.761905        3.8200     9.6  \n",
       "2  13:23  Credit card  324.31                 4.761905       16.2155     7.4  \n",
       "3  20:33      Ewallet  465.76                 4.761905       23.2880     8.4  \n",
       "4  10:37      Ewallet  604.17                 4.761905       30.2085     5.3  \n",
       "5  18:30      Ewallet  597.73                 4.761905       29.8865     4.1  \n",
       "6  14:36      Ewallet  413.04                 4.761905       20.6520     5.8  \n",
       "7  11:38      Ewallet  735.60                 4.761905       36.7800     8.0  \n",
       "8  17:15  Credit card   72.52                 4.761905        3.6260     7.2  \n",
       "9  13:27  Credit card  164.52                 4.761905        8.2260     5.9  "
      ]
     },
     "execution_count": 246,
     "metadata": {},
     "output_type": "execute_result"
    }
   ],
   "source": [
    "df = pd.read_csv('supermarket_sales.csv')\n",
    "df.info()\n",
    "df.head(10)"
   ]
  },
  {
   "cell_type": "code",
   "execution_count": 247,
   "id": "2522ee1c",
   "metadata": {
    "scrolled": true
   },
   "outputs": [
    {
     "data": {
      "text/html": [
       "<div>\n",
       "<style scoped>\n",
       "    .dataframe tbody tr th:only-of-type {\n",
       "        vertical-align: middle;\n",
       "    }\n",
       "\n",
       "    .dataframe tbody tr th {\n",
       "        vertical-align: top;\n",
       "    }\n",
       "\n",
       "    .dataframe thead th {\n",
       "        text-align: right;\n",
       "    }\n",
       "</style>\n",
       "<table border=\"1\" class=\"dataframe\">\n",
       "  <thead>\n",
       "    <tr style=\"text-align: right;\">\n",
       "      <th></th>\n",
       "      <th>min</th>\n",
       "      <th>max</th>\n",
       "    </tr>\n",
       "  </thead>\n",
       "  <tbody>\n",
       "    <tr>\n",
       "      <th>Invoice ID</th>\n",
       "      <td>101-17-6199</td>\n",
       "      <td>898-04-2717</td>\n",
       "    </tr>\n",
       "    <tr>\n",
       "      <th>Branch</th>\n",
       "      <td>A</td>\n",
       "      <td>C</td>\n",
       "    </tr>\n",
       "    <tr>\n",
       "      <th>City</th>\n",
       "      <td>Mandalay</td>\n",
       "      <td>Yangon</td>\n",
       "    </tr>\n",
       "    <tr>\n",
       "      <th>Customer type</th>\n",
       "      <td>Member</td>\n",
       "      <td>Normal</td>\n",
       "    </tr>\n",
       "    <tr>\n",
       "      <th>Gender</th>\n",
       "      <td>Female</td>\n",
       "      <td>Male</td>\n",
       "    </tr>\n",
       "    <tr>\n",
       "      <th>Product line</th>\n",
       "      <td>Electronic accessories</td>\n",
       "      <td>Sports and travel</td>\n",
       "    </tr>\n",
       "    <tr>\n",
       "      <th>Unit price</th>\n",
       "      <td>10.08</td>\n",
       "      <td>99.96</td>\n",
       "    </tr>\n",
       "    <tr>\n",
       "      <th>Quantity</th>\n",
       "      <td>1</td>\n",
       "      <td>10</td>\n",
       "    </tr>\n",
       "    <tr>\n",
       "      <th>Tax 5%</th>\n",
       "      <td>0.5085</td>\n",
       "      <td>49.65</td>\n",
       "    </tr>\n",
       "    <tr>\n",
       "      <th>Total</th>\n",
       "      <td>10.6785</td>\n",
       "      <td>1042.65</td>\n",
       "    </tr>\n",
       "    <tr>\n",
       "      <th>Date</th>\n",
       "      <td>1/1/2019</td>\n",
       "      <td>3/9/2019</td>\n",
       "    </tr>\n",
       "    <tr>\n",
       "      <th>Time</th>\n",
       "      <td>10:00</td>\n",
       "      <td>20:59</td>\n",
       "    </tr>\n",
       "    <tr>\n",
       "      <th>Payment</th>\n",
       "      <td>Cash</td>\n",
       "      <td>Ewallet</td>\n",
       "    </tr>\n",
       "    <tr>\n",
       "      <th>cogs</th>\n",
       "      <td>10.17</td>\n",
       "      <td>993.0</td>\n",
       "    </tr>\n",
       "    <tr>\n",
       "      <th>gross margin percentage</th>\n",
       "      <td>4.761905</td>\n",
       "      <td>4.761905</td>\n",
       "    </tr>\n",
       "    <tr>\n",
       "      <th>gross income</th>\n",
       "      <td>0.5085</td>\n",
       "      <td>49.65</td>\n",
       "    </tr>\n",
       "    <tr>\n",
       "      <th>Rating</th>\n",
       "      <td>4.0</td>\n",
       "      <td>10.0</td>\n",
       "    </tr>\n",
       "  </tbody>\n",
       "</table>\n",
       "</div>"
      ],
      "text/plain": [
       "                                            min                max\n",
       "Invoice ID                          101-17-6199        898-04-2717\n",
       "Branch                                        A                  C\n",
       "City                                   Mandalay             Yangon\n",
       "Customer type                            Member             Normal\n",
       "Gender                                   Female               Male\n",
       "Product line             Electronic accessories  Sports and travel\n",
       "Unit price                                10.08              99.96\n",
       "Quantity                                      1                 10\n",
       "Tax 5%                                   0.5085              49.65\n",
       "Total                                   10.6785            1042.65\n",
       "Date                                   1/1/2019           3/9/2019\n",
       "Time                                      10:00              20:59\n",
       "Payment                                    Cash            Ewallet\n",
       "cogs                                      10.17              993.0\n",
       "gross margin percentage                4.761905           4.761905\n",
       "gross income                             0.5085              49.65\n",
       "Rating                                      4.0               10.0"
      ]
     },
     "execution_count": 247,
     "metadata": {},
     "output_type": "execute_result"
    }
   ],
   "source": [
    "pd.DataFrame({'min':df.min(), 'max':df.max()})"
   ]
  },
  {
   "cell_type": "code",
   "execution_count": 248,
   "id": "f0b76ae9",
   "metadata": {},
   "outputs": [
    {
     "data": {
      "text/html": [
       "<div>\n",
       "<style scoped>\n",
       "    .dataframe tbody tr th:only-of-type {\n",
       "        vertical-align: middle;\n",
       "    }\n",
       "\n",
       "    .dataframe tbody tr th {\n",
       "        vertical-align: top;\n",
       "    }\n",
       "\n",
       "    .dataframe thead th {\n",
       "        text-align: right;\n",
       "    }\n",
       "</style>\n",
       "<table border=\"1\" class=\"dataframe\">\n",
       "  <thead>\n",
       "    <tr style=\"text-align: right;\">\n",
       "      <th></th>\n",
       "      <th>Unit price</th>\n",
       "      <th>Quantity</th>\n",
       "      <th>Tax 5%</th>\n",
       "      <th>Total</th>\n",
       "      <th>cogs</th>\n",
       "      <th>gross margin percentage</th>\n",
       "      <th>gross income</th>\n",
       "      <th>Rating</th>\n",
       "    </tr>\n",
       "  </thead>\n",
       "  <tbody>\n",
       "    <tr>\n",
       "      <th>count</th>\n",
       "      <td>1000.000000</td>\n",
       "      <td>1000.000000</td>\n",
       "      <td>1000.000000</td>\n",
       "      <td>1000.000000</td>\n",
       "      <td>1000.00000</td>\n",
       "      <td>1.000000e+03</td>\n",
       "      <td>1000.000000</td>\n",
       "      <td>1000.00000</td>\n",
       "    </tr>\n",
       "    <tr>\n",
       "      <th>mean</th>\n",
       "      <td>55.672130</td>\n",
       "      <td>5.510000</td>\n",
       "      <td>15.379369</td>\n",
       "      <td>322.966749</td>\n",
       "      <td>307.58738</td>\n",
       "      <td>4.761905e+00</td>\n",
       "      <td>15.379369</td>\n",
       "      <td>6.97270</td>\n",
       "    </tr>\n",
       "    <tr>\n",
       "      <th>std</th>\n",
       "      <td>26.494628</td>\n",
       "      <td>2.923431</td>\n",
       "      <td>11.708825</td>\n",
       "      <td>245.885335</td>\n",
       "      <td>234.17651</td>\n",
       "      <td>6.131498e-14</td>\n",
       "      <td>11.708825</td>\n",
       "      <td>1.71858</td>\n",
       "    </tr>\n",
       "    <tr>\n",
       "      <th>min</th>\n",
       "      <td>10.080000</td>\n",
       "      <td>1.000000</td>\n",
       "      <td>0.508500</td>\n",
       "      <td>10.678500</td>\n",
       "      <td>10.17000</td>\n",
       "      <td>4.761905e+00</td>\n",
       "      <td>0.508500</td>\n",
       "      <td>4.00000</td>\n",
       "    </tr>\n",
       "    <tr>\n",
       "      <th>25%</th>\n",
       "      <td>32.875000</td>\n",
       "      <td>3.000000</td>\n",
       "      <td>5.924875</td>\n",
       "      <td>124.422375</td>\n",
       "      <td>118.49750</td>\n",
       "      <td>4.761905e+00</td>\n",
       "      <td>5.924875</td>\n",
       "      <td>5.50000</td>\n",
       "    </tr>\n",
       "    <tr>\n",
       "      <th>50%</th>\n",
       "      <td>55.230000</td>\n",
       "      <td>5.000000</td>\n",
       "      <td>12.088000</td>\n",
       "      <td>253.848000</td>\n",
       "      <td>241.76000</td>\n",
       "      <td>4.761905e+00</td>\n",
       "      <td>12.088000</td>\n",
       "      <td>7.00000</td>\n",
       "    </tr>\n",
       "    <tr>\n",
       "      <th>75%</th>\n",
       "      <td>77.935000</td>\n",
       "      <td>8.000000</td>\n",
       "      <td>22.445250</td>\n",
       "      <td>471.350250</td>\n",
       "      <td>448.90500</td>\n",
       "      <td>4.761905e+00</td>\n",
       "      <td>22.445250</td>\n",
       "      <td>8.50000</td>\n",
       "    </tr>\n",
       "    <tr>\n",
       "      <th>max</th>\n",
       "      <td>99.960000</td>\n",
       "      <td>10.000000</td>\n",
       "      <td>49.650000</td>\n",
       "      <td>1042.650000</td>\n",
       "      <td>993.00000</td>\n",
       "      <td>4.761905e+00</td>\n",
       "      <td>49.650000</td>\n",
       "      <td>10.00000</td>\n",
       "    </tr>\n",
       "  </tbody>\n",
       "</table>\n",
       "</div>"
      ],
      "text/plain": [
       "        Unit price     Quantity       Tax 5%        Total        cogs  \\\n",
       "count  1000.000000  1000.000000  1000.000000  1000.000000  1000.00000   \n",
       "mean     55.672130     5.510000    15.379369   322.966749   307.58738   \n",
       "std      26.494628     2.923431    11.708825   245.885335   234.17651   \n",
       "min      10.080000     1.000000     0.508500    10.678500    10.17000   \n",
       "25%      32.875000     3.000000     5.924875   124.422375   118.49750   \n",
       "50%      55.230000     5.000000    12.088000   253.848000   241.76000   \n",
       "75%      77.935000     8.000000    22.445250   471.350250   448.90500   \n",
       "max      99.960000    10.000000    49.650000  1042.650000   993.00000   \n",
       "\n",
       "       gross margin percentage  gross income      Rating  \n",
       "count             1.000000e+03   1000.000000  1000.00000  \n",
       "mean              4.761905e+00     15.379369     6.97270  \n",
       "std               6.131498e-14     11.708825     1.71858  \n",
       "min               4.761905e+00      0.508500     4.00000  \n",
       "25%               4.761905e+00      5.924875     5.50000  \n",
       "50%               4.761905e+00     12.088000     7.00000  \n",
       "75%               4.761905e+00     22.445250     8.50000  \n",
       "max               4.761905e+00     49.650000    10.00000  "
      ]
     },
     "execution_count": 248,
     "metadata": {},
     "output_type": "execute_result"
    }
   ],
   "source": [
    "df.describe()"
   ]
  },
  {
   "cell_type": "code",
   "execution_count": 249,
   "id": "0e96815e",
   "metadata": {},
   "outputs": [
    {
     "data": {
      "text/plain": [
       "0"
      ]
     },
     "execution_count": 249,
     "metadata": {},
     "output_type": "execute_result"
    }
   ],
   "source": [
    "#Patikrinu, ar nėra dublikatų:\n",
    "df.duplicated().sum()"
   ]
  },
  {
   "cell_type": "code",
   "execution_count": 250,
   "id": "934e0006",
   "metadata": {},
   "outputs": [],
   "source": [
    "#Pavadinimų stulpeliuose pakeičiu tarpus apatiniu brūkšniu:\n",
    "df.columns = df.columns.str.replace(' ', '_')"
   ]
  },
  {
   "cell_type": "code",
   "execution_count": 251,
   "id": "0bec55d4",
   "metadata": {},
   "outputs": [],
   "source": [
    "#Ties data pakeičiu 'object' duomenų tipą į datos:\n",
    "df['Date'] = pd.to_datetime(df['Date']).dt.date.astype('datetime64[ns]')\n",
    "df['Time'] = pd.to_datetime(df['Time'])"
   ]
  },
  {
   "cell_type": "code",
   "execution_count": 252,
   "id": "ca78e5d3",
   "metadata": {},
   "outputs": [],
   "source": [
    "#Sukuriu stulpelį su apispirkimų valandomis:\n",
    "df['Hour'] = df['Time'].dt.hour  "
   ]
  },
  {
   "cell_type": "code",
   "execution_count": 253,
   "id": "2f13df83",
   "metadata": {},
   "outputs": [],
   "source": [
    "#Sukuriu stulpelį su mėnesiais:\n",
    "df['Month'] = df['Date'].dt.month"
   ]
  },
  {
   "cell_type": "code",
   "execution_count": 254,
   "id": "9d7b5ac2",
   "metadata": {},
   "outputs": [],
   "source": [
    "#Perkonvertuoju mėnesius į mėnesių pavadinimus :\n",
    "import calendar\n",
    "df['Month'] = df['Month'].apply(lambda x: calendar.month_abbr[x])"
   ]
  },
  {
   "cell_type": "code",
   "execution_count": 255,
   "id": "d824954a",
   "metadata": {},
   "outputs": [],
   "source": [
    "# Sukuriu stulpelį su savaitės dienomis :\n",
    "df[\"day_of_week\"] = df[\"Date\"].dt.day_name()"
   ]
  },
  {
   "cell_type": "code",
   "execution_count": 256,
   "id": "ab14e18e",
   "metadata": {},
   "outputs": [
    {
     "data": {
      "text/html": [
       "<div>\n",
       "<style scoped>\n",
       "    .dataframe tbody tr th:only-of-type {\n",
       "        vertical-align: middle;\n",
       "    }\n",
       "\n",
       "    .dataframe tbody tr th {\n",
       "        vertical-align: top;\n",
       "    }\n",
       "\n",
       "    .dataframe thead th {\n",
       "        text-align: right;\n",
       "    }\n",
       "</style>\n",
       "<table border=\"1\" class=\"dataframe\">\n",
       "  <thead>\n",
       "    <tr style=\"text-align: right;\">\n",
       "      <th></th>\n",
       "      <th>unique</th>\n",
       "    </tr>\n",
       "    <tr>\n",
       "      <th>Branch</th>\n",
       "      <th></th>\n",
       "    </tr>\n",
       "  </thead>\n",
       "  <tbody>\n",
       "    <tr>\n",
       "      <th>A</th>\n",
       "      <td>[Yangon]</td>\n",
       "    </tr>\n",
       "    <tr>\n",
       "      <th>B</th>\n",
       "      <td>[Mandalay]</td>\n",
       "    </tr>\n",
       "    <tr>\n",
       "      <th>C</th>\n",
       "      <td>[Naypyitaw]</td>\n",
       "    </tr>\n",
       "  </tbody>\n",
       "</table>\n",
       "</div>"
      ],
      "text/plain": [
       "             unique\n",
       "Branch             \n",
       "A          [Yangon]\n",
       "B        [Mandalay]\n",
       "C       [Naypyitaw]"
      ]
     },
     "execution_count": 256,
     "metadata": {},
     "output_type": "execute_result"
    }
   ],
   "source": [
    "# Patikrinu ar kiekvienas Branch tikrai turi tik po vieną priskirtą miestą:\n",
    "branch_city = df.groupby('Branch')['City'].agg(['unique'])\n",
    "branch_city"
   ]
  },
  {
   "cell_type": "code",
   "execution_count": 257,
   "id": "4e0a8298",
   "metadata": {},
   "outputs": [],
   "source": [
    "#Sukuriu stulpelį su pardavimais po mokesčių:\n",
    "df['sales'] = df['Total'] - df['Tax_5%']"
   ]
  },
  {
   "cell_type": "code",
   "execution_count": 258,
   "id": "47399ed4",
   "metadata": {},
   "outputs": [],
   "source": [
    "# Duomenų bazėje klaidingi COGS, tad sukuriu random maržas ir išskaičiuoju naujus COGS ir gross income:\n",
    "\n",
    "from random import uniform\n",
    "\n",
    "df[\"gross_margin_percentage\"] = [round(uniform(0, 35), 2) for i in range(len(df))]\n",
    "df[\"gross_income\"] = (df[\"sales\"] * (df[\"gross_margin_percentage\"] / 100)).round(2)\n",
    "df[\"cogs\"] = df[\"sales\"] - df[\"gross_income\"]"
   ]
  },
  {
   "cell_type": "code",
   "execution_count": 259,
   "id": "f96f9bdc",
   "metadata": {},
   "outputs": [
    {
     "data": {
      "text/html": [
       "<div>\n",
       "<style scoped>\n",
       "    .dataframe tbody tr th:only-of-type {\n",
       "        vertical-align: middle;\n",
       "    }\n",
       "\n",
       "    .dataframe tbody tr th {\n",
       "        vertical-align: top;\n",
       "    }\n",
       "\n",
       "    .dataframe thead th {\n",
       "        text-align: right;\n",
       "    }\n",
       "</style>\n",
       "<table border=\"1\" class=\"dataframe\">\n",
       "  <thead>\n",
       "    <tr style=\"text-align: right;\">\n",
       "      <th></th>\n",
       "      <th>sales</th>\n",
       "      <th>gross_margin_percentage</th>\n",
       "      <th>gross_income</th>\n",
       "      <th>cogs</th>\n",
       "    </tr>\n",
       "  </thead>\n",
       "  <tbody>\n",
       "    <tr>\n",
       "      <th>0</th>\n",
       "      <td>522.83</td>\n",
       "      <td>25.16</td>\n",
       "      <td>131.54</td>\n",
       "      <td>391.29</td>\n",
       "    </tr>\n",
       "    <tr>\n",
       "      <th>1</th>\n",
       "      <td>76.40</td>\n",
       "      <td>32.31</td>\n",
       "      <td>24.68</td>\n",
       "      <td>51.72</td>\n",
       "    </tr>\n",
       "    <tr>\n",
       "      <th>2</th>\n",
       "      <td>324.31</td>\n",
       "      <td>14.44</td>\n",
       "      <td>46.83</td>\n",
       "      <td>277.48</td>\n",
       "    </tr>\n",
       "    <tr>\n",
       "      <th>3</th>\n",
       "      <td>465.76</td>\n",
       "      <td>24.04</td>\n",
       "      <td>111.97</td>\n",
       "      <td>353.79</td>\n",
       "    </tr>\n",
       "    <tr>\n",
       "      <th>4</th>\n",
       "      <td>604.17</td>\n",
       "      <td>34.94</td>\n",
       "      <td>211.10</td>\n",
       "      <td>393.07</td>\n",
       "    </tr>\n",
       "    <tr>\n",
       "      <th>...</th>\n",
       "      <td>...</td>\n",
       "      <td>...</td>\n",
       "      <td>...</td>\n",
       "      <td>...</td>\n",
       "    </tr>\n",
       "    <tr>\n",
       "      <th>995</th>\n",
       "      <td>40.35</td>\n",
       "      <td>18.80</td>\n",
       "      <td>7.59</td>\n",
       "      <td>32.76</td>\n",
       "    </tr>\n",
       "    <tr>\n",
       "      <th>996</th>\n",
       "      <td>973.80</td>\n",
       "      <td>26.42</td>\n",
       "      <td>257.28</td>\n",
       "      <td>716.52</td>\n",
       "    </tr>\n",
       "    <tr>\n",
       "      <th>997</th>\n",
       "      <td>31.84</td>\n",
       "      <td>32.90</td>\n",
       "      <td>10.48</td>\n",
       "      <td>21.36</td>\n",
       "    </tr>\n",
       "    <tr>\n",
       "      <th>998</th>\n",
       "      <td>65.82</td>\n",
       "      <td>5.30</td>\n",
       "      <td>3.49</td>\n",
       "      <td>62.33</td>\n",
       "    </tr>\n",
       "    <tr>\n",
       "      <th>999</th>\n",
       "      <td>618.38</td>\n",
       "      <td>29.52</td>\n",
       "      <td>182.55</td>\n",
       "      <td>435.83</td>\n",
       "    </tr>\n",
       "  </tbody>\n",
       "</table>\n",
       "<p>1000 rows × 4 columns</p>\n",
       "</div>"
      ],
      "text/plain": [
       "      sales  gross_margin_percentage  gross_income    cogs\n",
       "0    522.83                    25.16        131.54  391.29\n",
       "1     76.40                    32.31         24.68   51.72\n",
       "2    324.31                    14.44         46.83  277.48\n",
       "3    465.76                    24.04        111.97  353.79\n",
       "4    604.17                    34.94        211.10  393.07\n",
       "..      ...                      ...           ...     ...\n",
       "995   40.35                    18.80          7.59   32.76\n",
       "996  973.80                    26.42        257.28  716.52\n",
       "997   31.84                    32.90         10.48   21.36\n",
       "998   65.82                     5.30          3.49   62.33\n",
       "999  618.38                    29.52        182.55  435.83\n",
       "\n",
       "[1000 rows x 4 columns]"
      ]
     },
     "execution_count": 259,
     "metadata": {},
     "output_type": "execute_result"
    }
   ],
   "source": [
    "df[['sales', \"gross_margin_percentage\", \"gross_income\", \"cogs\"]]"
   ]
  },
  {
   "cell_type": "code",
   "execution_count": 260,
   "id": "28625643",
   "metadata": {},
   "outputs": [],
   "source": [
    "#Patikslinant stulpelius, pervadinu 'Total' į 'sales_with_tax'\n",
    "df.columns = ['sales_with_tax' if x=='Total' else x for x in df.columns]"
   ]
  },
  {
   "cell_type": "code",
   "execution_count": 261,
   "id": "5dd17fe3",
   "metadata": {},
   "outputs": [
    {
     "name": "stdout",
     "output_type": "stream",
     "text": [
      "<class 'pandas.core.frame.DataFrame'>\n",
      "RangeIndex: 1000 entries, 0 to 999\n",
      "Data columns (total 21 columns):\n",
      " #   Column                   Non-Null Count  Dtype         \n",
      "---  ------                   --------------  -----         \n",
      " 0   Invoice_ID               1000 non-null   object        \n",
      " 1   Branch                   1000 non-null   object        \n",
      " 2   City                     1000 non-null   object        \n",
      " 3   Customer_type            1000 non-null   object        \n",
      " 4   Gender                   1000 non-null   object        \n",
      " 5   Product_line             1000 non-null   object        \n",
      " 6   Unit_price               1000 non-null   float64       \n",
      " 7   Quantity                 1000 non-null   int64         \n",
      " 8   Tax_5%                   1000 non-null   float64       \n",
      " 9   sales_with_tax           1000 non-null   float64       \n",
      " 10  Date                     1000 non-null   datetime64[ns]\n",
      " 11  Time                     1000 non-null   datetime64[ns]\n",
      " 12  Payment                  1000 non-null   object        \n",
      " 13  cogs                     1000 non-null   float64       \n",
      " 14  gross_margin_percentage  1000 non-null   float64       \n",
      " 15  gross_income             1000 non-null   float64       \n",
      " 16  Rating                   1000 non-null   float64       \n",
      " 17  Hour                     1000 non-null   int64         \n",
      " 18  Month                    1000 non-null   object        \n",
      " 19  day_of_week              1000 non-null   object        \n",
      " 20  sales                    1000 non-null   float64       \n",
      "dtypes: datetime64[ns](2), float64(8), int64(2), object(9)\n",
      "memory usage: 164.2+ KB\n"
     ]
    },
    {
     "data": {
      "text/html": [
       "<div>\n",
       "<style scoped>\n",
       "    .dataframe tbody tr th:only-of-type {\n",
       "        vertical-align: middle;\n",
       "    }\n",
       "\n",
       "    .dataframe tbody tr th {\n",
       "        vertical-align: top;\n",
       "    }\n",
       "\n",
       "    .dataframe thead th {\n",
       "        text-align: right;\n",
       "    }\n",
       "</style>\n",
       "<table border=\"1\" class=\"dataframe\">\n",
       "  <thead>\n",
       "    <tr style=\"text-align: right;\">\n",
       "      <th></th>\n",
       "      <th>0</th>\n",
       "      <th>1</th>\n",
       "      <th>2</th>\n",
       "      <th>3</th>\n",
       "      <th>4</th>\n",
       "    </tr>\n",
       "  </thead>\n",
       "  <tbody>\n",
       "    <tr>\n",
       "      <th>Invoice_ID</th>\n",
       "      <td>750-67-8428</td>\n",
       "      <td>226-31-3081</td>\n",
       "      <td>631-41-3108</td>\n",
       "      <td>123-19-1176</td>\n",
       "      <td>373-73-7910</td>\n",
       "    </tr>\n",
       "    <tr>\n",
       "      <th>Branch</th>\n",
       "      <td>A</td>\n",
       "      <td>C</td>\n",
       "      <td>A</td>\n",
       "      <td>A</td>\n",
       "      <td>A</td>\n",
       "    </tr>\n",
       "    <tr>\n",
       "      <th>City</th>\n",
       "      <td>Yangon</td>\n",
       "      <td>Naypyitaw</td>\n",
       "      <td>Yangon</td>\n",
       "      <td>Yangon</td>\n",
       "      <td>Yangon</td>\n",
       "    </tr>\n",
       "    <tr>\n",
       "      <th>Customer_type</th>\n",
       "      <td>Member</td>\n",
       "      <td>Normal</td>\n",
       "      <td>Normal</td>\n",
       "      <td>Member</td>\n",
       "      <td>Normal</td>\n",
       "    </tr>\n",
       "    <tr>\n",
       "      <th>Gender</th>\n",
       "      <td>Female</td>\n",
       "      <td>Female</td>\n",
       "      <td>Male</td>\n",
       "      <td>Male</td>\n",
       "      <td>Male</td>\n",
       "    </tr>\n",
       "    <tr>\n",
       "      <th>Product_line</th>\n",
       "      <td>Health and beauty</td>\n",
       "      <td>Electronic accessories</td>\n",
       "      <td>Home and lifestyle</td>\n",
       "      <td>Health and beauty</td>\n",
       "      <td>Sports and travel</td>\n",
       "    </tr>\n",
       "    <tr>\n",
       "      <th>Unit_price</th>\n",
       "      <td>74.69</td>\n",
       "      <td>15.28</td>\n",
       "      <td>46.33</td>\n",
       "      <td>58.22</td>\n",
       "      <td>86.31</td>\n",
       "    </tr>\n",
       "    <tr>\n",
       "      <th>Quantity</th>\n",
       "      <td>7</td>\n",
       "      <td>5</td>\n",
       "      <td>7</td>\n",
       "      <td>8</td>\n",
       "      <td>7</td>\n",
       "    </tr>\n",
       "    <tr>\n",
       "      <th>Tax_5%</th>\n",
       "      <td>26.1415</td>\n",
       "      <td>3.82</td>\n",
       "      <td>16.2155</td>\n",
       "      <td>23.288</td>\n",
       "      <td>30.2085</td>\n",
       "    </tr>\n",
       "    <tr>\n",
       "      <th>sales_with_tax</th>\n",
       "      <td>548.9715</td>\n",
       "      <td>80.22</td>\n",
       "      <td>340.5255</td>\n",
       "      <td>489.048</td>\n",
       "      <td>634.3785</td>\n",
       "    </tr>\n",
       "    <tr>\n",
       "      <th>Date</th>\n",
       "      <td>2019-01-05 00:00:00</td>\n",
       "      <td>2019-03-08 00:00:00</td>\n",
       "      <td>2019-03-03 00:00:00</td>\n",
       "      <td>2019-01-27 00:00:00</td>\n",
       "      <td>2019-02-08 00:00:00</td>\n",
       "    </tr>\n",
       "    <tr>\n",
       "      <th>Time</th>\n",
       "      <td>2022-09-23 13:08:00</td>\n",
       "      <td>2022-09-23 10:29:00</td>\n",
       "      <td>2022-09-23 13:23:00</td>\n",
       "      <td>2022-09-23 20:33:00</td>\n",
       "      <td>2022-09-23 10:37:00</td>\n",
       "    </tr>\n",
       "    <tr>\n",
       "      <th>Payment</th>\n",
       "      <td>Ewallet</td>\n",
       "      <td>Cash</td>\n",
       "      <td>Credit card</td>\n",
       "      <td>Ewallet</td>\n",
       "      <td>Ewallet</td>\n",
       "    </tr>\n",
       "    <tr>\n",
       "      <th>cogs</th>\n",
       "      <td>391.29</td>\n",
       "      <td>51.72</td>\n",
       "      <td>277.48</td>\n",
       "      <td>353.79</td>\n",
       "      <td>393.07</td>\n",
       "    </tr>\n",
       "    <tr>\n",
       "      <th>gross_margin_percentage</th>\n",
       "      <td>25.16</td>\n",
       "      <td>32.31</td>\n",
       "      <td>14.44</td>\n",
       "      <td>24.04</td>\n",
       "      <td>34.94</td>\n",
       "    </tr>\n",
       "    <tr>\n",
       "      <th>gross_income</th>\n",
       "      <td>131.54</td>\n",
       "      <td>24.68</td>\n",
       "      <td>46.83</td>\n",
       "      <td>111.97</td>\n",
       "      <td>211.1</td>\n",
       "    </tr>\n",
       "    <tr>\n",
       "      <th>Rating</th>\n",
       "      <td>9.1</td>\n",
       "      <td>9.6</td>\n",
       "      <td>7.4</td>\n",
       "      <td>8.4</td>\n",
       "      <td>5.3</td>\n",
       "    </tr>\n",
       "    <tr>\n",
       "      <th>Hour</th>\n",
       "      <td>13</td>\n",
       "      <td>10</td>\n",
       "      <td>13</td>\n",
       "      <td>20</td>\n",
       "      <td>10</td>\n",
       "    </tr>\n",
       "    <tr>\n",
       "      <th>Month</th>\n",
       "      <td>Jan</td>\n",
       "      <td>Mar</td>\n",
       "      <td>Mar</td>\n",
       "      <td>Jan</td>\n",
       "      <td>Feb</td>\n",
       "    </tr>\n",
       "    <tr>\n",
       "      <th>day_of_week</th>\n",
       "      <td>Saturday</td>\n",
       "      <td>Friday</td>\n",
       "      <td>Sunday</td>\n",
       "      <td>Sunday</td>\n",
       "      <td>Friday</td>\n",
       "    </tr>\n",
       "    <tr>\n",
       "      <th>sales</th>\n",
       "      <td>522.83</td>\n",
       "      <td>76.4</td>\n",
       "      <td>324.31</td>\n",
       "      <td>465.76</td>\n",
       "      <td>604.17</td>\n",
       "    </tr>\n",
       "  </tbody>\n",
       "</table>\n",
       "</div>"
      ],
      "text/plain": [
       "                                           0                       1  \\\n",
       "Invoice_ID                       750-67-8428             226-31-3081   \n",
       "Branch                                     A                       C   \n",
       "City                                  Yangon               Naypyitaw   \n",
       "Customer_type                         Member                  Normal   \n",
       "Gender                                Female                  Female   \n",
       "Product_line               Health and beauty  Electronic accessories   \n",
       "Unit_price                             74.69                   15.28   \n",
       "Quantity                                   7                       5   \n",
       "Tax_5%                               26.1415                    3.82   \n",
       "sales_with_tax                      548.9715                   80.22   \n",
       "Date                     2019-01-05 00:00:00     2019-03-08 00:00:00   \n",
       "Time                     2022-09-23 13:08:00     2022-09-23 10:29:00   \n",
       "Payment                              Ewallet                    Cash   \n",
       "cogs                                  391.29                   51.72   \n",
       "gross_margin_percentage                25.16                   32.31   \n",
       "gross_income                          131.54                   24.68   \n",
       "Rating                                   9.1                     9.6   \n",
       "Hour                                      13                      10   \n",
       "Month                                    Jan                     Mar   \n",
       "day_of_week                         Saturday                  Friday   \n",
       "sales                                 522.83                    76.4   \n",
       "\n",
       "                                           2                    3  \\\n",
       "Invoice_ID                       631-41-3108          123-19-1176   \n",
       "Branch                                     A                    A   \n",
       "City                                  Yangon               Yangon   \n",
       "Customer_type                         Normal               Member   \n",
       "Gender                                  Male                 Male   \n",
       "Product_line              Home and lifestyle    Health and beauty   \n",
       "Unit_price                             46.33                58.22   \n",
       "Quantity                                   7                    8   \n",
       "Tax_5%                               16.2155               23.288   \n",
       "sales_with_tax                      340.5255              489.048   \n",
       "Date                     2019-03-03 00:00:00  2019-01-27 00:00:00   \n",
       "Time                     2022-09-23 13:23:00  2022-09-23 20:33:00   \n",
       "Payment                          Credit card              Ewallet   \n",
       "cogs                                  277.48               353.79   \n",
       "gross_margin_percentage                14.44                24.04   \n",
       "gross_income                           46.83               111.97   \n",
       "Rating                                   7.4                  8.4   \n",
       "Hour                                      13                   20   \n",
       "Month                                    Mar                  Jan   \n",
       "day_of_week                           Sunday               Sunday   \n",
       "sales                                 324.31               465.76   \n",
       "\n",
       "                                           4  \n",
       "Invoice_ID                       373-73-7910  \n",
       "Branch                                     A  \n",
       "City                                  Yangon  \n",
       "Customer_type                         Normal  \n",
       "Gender                                  Male  \n",
       "Product_line               Sports and travel  \n",
       "Unit_price                             86.31  \n",
       "Quantity                                   7  \n",
       "Tax_5%                               30.2085  \n",
       "sales_with_tax                      634.3785  \n",
       "Date                     2019-02-08 00:00:00  \n",
       "Time                     2022-09-23 10:37:00  \n",
       "Payment                              Ewallet  \n",
       "cogs                                  393.07  \n",
       "gross_margin_percentage                34.94  \n",
       "gross_income                           211.1  \n",
       "Rating                                   5.3  \n",
       "Hour                                      10  \n",
       "Month                                    Feb  \n",
       "day_of_week                           Friday  \n",
       "sales                                 604.17  "
      ]
     },
     "execution_count": 261,
     "metadata": {},
     "output_type": "execute_result"
    }
   ],
   "source": [
    "#Patikrinu duomenis:\n",
    "df.info()\n",
    "df.head(5).transpose()"
   ]
  },
  {
   "cell_type": "markdown",
   "id": "0214296f",
   "metadata": {},
   "source": [
    "## Analizė"
   ]
  },
  {
   "cell_type": "code",
   "execution_count": 262,
   "id": "a4600b6e",
   "metadata": {},
   "outputs": [],
   "source": [
    "import seaborn as sns\n",
    "import matplotlib.pyplot as plt"
   ]
  },
  {
   "cell_type": "markdown",
   "id": "9553b3d6",
   "metadata": {},
   "source": [
    "### Klientai ir jų apipirkimų tendencijos"
   ]
  },
  {
   "cell_type": "markdown",
   "id": "c690aa48",
   "metadata": {},
   "source": [
    "Moterys ar vyrai apispirkinėja dažniau? Su naryste ar be?"
   ]
  },
  {
   "cell_type": "code",
   "execution_count": 263,
   "id": "3b9078ac",
   "metadata": {},
   "outputs": [
    {
     "data": {
      "text/html": [
       "<div>\n",
       "<style scoped>\n",
       "    .dataframe tbody tr th:only-of-type {\n",
       "        vertical-align: middle;\n",
       "    }\n",
       "\n",
       "    .dataframe tbody tr th {\n",
       "        vertical-align: top;\n",
       "    }\n",
       "\n",
       "    .dataframe thead th {\n",
       "        text-align: right;\n",
       "    }\n",
       "</style>\n",
       "<table border=\"1\" class=\"dataframe\">\n",
       "  <thead>\n",
       "    <tr style=\"text-align: right;\">\n",
       "      <th>Gender</th>\n",
       "      <th>Female</th>\n",
       "      <th>Male</th>\n",
       "    </tr>\n",
       "    <tr>\n",
       "      <th>Customer_type</th>\n",
       "      <th></th>\n",
       "      <th></th>\n",
       "    </tr>\n",
       "  </thead>\n",
       "  <tbody>\n",
       "    <tr>\n",
       "      <th>Member</th>\n",
       "      <td>261</td>\n",
       "      <td>240</td>\n",
       "    </tr>\n",
       "    <tr>\n",
       "      <th>Normal</th>\n",
       "      <td>240</td>\n",
       "      <td>259</td>\n",
       "    </tr>\n",
       "  </tbody>\n",
       "</table>\n",
       "</div>"
      ],
      "text/plain": [
       "Gender         Female  Male\n",
       "Customer_type              \n",
       "Member            261   240\n",
       "Normal            240   259"
      ]
     },
     "execution_count": 263,
     "metadata": {},
     "output_type": "execute_result"
    }
   ],
   "source": [
    "cu_type_gender = df.groupby([\"Customer_type\", \"Gender\"]).size()\n",
    "cu_type_gender.unstack()"
   ]
  },
  {
   "cell_type": "code",
   "execution_count": 264,
   "id": "bba157d2",
   "metadata": {
    "scrolled": false
   },
   "outputs": [
    {
     "data": {
      "text/plain": [
       "Text(0, 0.5, 'Transactions')"
      ]
     },
     "execution_count": 264,
     "metadata": {},
     "output_type": "execute_result"
    },
    {
     "data": {
      "image/png": "[encoded data removed]",
      "text/plain": [
       "<Figure size 648x288 with 1 Axes>"
      ]
     },
     "metadata": {},
     "output_type": "display_data"
    }
   ],
   "source": [
    "ctg_plot = sns.countplot(\n",
    "    x=\"Customer_type\", hue=\"Gender\", data=df, palette=[\"#d27688\", \"#63a6cc\"]\n",
    ")\n",
    "plt.legend(loc=\"upper right\", bbox_to_anchor=(1.2, 1))\n",
    "ctg_plot.set_ylabel(\"Transactions\")"
   ]
  },
  {
   "cell_type": "markdown",
   "id": "fd2a7c28",
   "metadata": {},
   "source": [
    "Kurios kategorijos labiau paklausios tarp moterų, o kurios tarp vyrų?"
   ]
  },
  {
   "cell_type": "code",
   "execution_count": 265,
   "id": "5e90510a",
   "metadata": {},
   "outputs": [
    {
     "data": {
      "text/html": [
       "<div>\n",
       "<style scoped>\n",
       "    .dataframe tbody tr th:only-of-type {\n",
       "        vertical-align: middle;\n",
       "    }\n",
       "\n",
       "    .dataframe tbody tr th {\n",
       "        vertical-align: top;\n",
       "    }\n",
       "\n",
       "    .dataframe thead th {\n",
       "        text-align: right;\n",
       "    }\n",
       "</style>\n",
       "<table border=\"1\" class=\"dataframe\">\n",
       "  <thead>\n",
       "    <tr style=\"text-align: right;\">\n",
       "      <th>Gender</th>\n",
       "      <th>Female</th>\n",
       "      <th>Male</th>\n",
       "    </tr>\n",
       "    <tr>\n",
       "      <th>Product_line</th>\n",
       "      <th></th>\n",
       "      <th></th>\n",
       "    </tr>\n",
       "  </thead>\n",
       "  <tbody>\n",
       "    <tr>\n",
       "      <th>Electronic accessories</th>\n",
       "      <td>84</td>\n",
       "      <td>86</td>\n",
       "    </tr>\n",
       "    <tr>\n",
       "      <th>Fashion accessories</th>\n",
       "      <td>96</td>\n",
       "      <td>82</td>\n",
       "    </tr>\n",
       "    <tr>\n",
       "      <th>Food and beverages</th>\n",
       "      <td>90</td>\n",
       "      <td>84</td>\n",
       "    </tr>\n",
       "    <tr>\n",
       "      <th>Health and beauty</th>\n",
       "      <td>64</td>\n",
       "      <td>88</td>\n",
       "    </tr>\n",
       "    <tr>\n",
       "      <th>Home and lifestyle</th>\n",
       "      <td>79</td>\n",
       "      <td>81</td>\n",
       "    </tr>\n",
       "    <tr>\n",
       "      <th>Sports and travel</th>\n",
       "      <td>88</td>\n",
       "      <td>78</td>\n",
       "    </tr>\n",
       "  </tbody>\n",
       "</table>\n",
       "</div>"
      ],
      "text/plain": [
       "Gender                  Female  Male\n",
       "Product_line                        \n",
       "Electronic accessories      84    86\n",
       "Fashion accessories         96    82\n",
       "Food and beverages          90    84\n",
       "Health and beauty           64    88\n",
       "Home and lifestyle          79    81\n",
       "Sports and travel           88    78"
      ]
     },
     "execution_count": 265,
     "metadata": {},
     "output_type": "execute_result"
    }
   ],
   "source": [
    "products_gender = df.groupby([\"Product_line\", \"Gender\"]).size()\n",
    "products_gender.unstack()"
   ]
  },
  {
   "cell_type": "code",
   "execution_count": 266,
   "id": "8c6f4b00",
   "metadata": {},
   "outputs": [
    {
     "data": {
      "text/plain": [
       "Text(0, 0.5, 'Transactions')"
      ]
     },
     "execution_count": 266,
     "metadata": {},
     "output_type": "execute_result"
    },
    {
     "data": {
      "image/png": "[encoded data removed]",
      "text/plain": [
       "<Figure size 648x288 with 1 Axes>"
      ]
     },
     "metadata": {},
     "output_type": "display_data"
    }
   ],
   "source": [
    "pg_plot = sns.countplot(\n",
    "    x=\"Product_line\", hue=\"Gender\", data=df, palette=[\"#d27688\", \"#63a6cc\"]\n",
    ")\n",
    "plt.legend(loc=\"upper right\", bbox_to_anchor=(1.2, 1))\n",
    "pg_plot.set_xticklabels(pg_plot.get_xticklabels(), rotation=330)\n",
    "pg_plot.set_ylabel(\"Transactions\")"
   ]
  },
  {
   "cell_type": "markdown",
   "id": "9167a215",
   "metadata": {},
   "source": [
    "Ar yra įtaka tarp išleidžamos sumos per apsipirkimą ir klientų lyties?"
   ]
  },
  {
   "cell_type": "code",
   "execution_count": 267,
   "id": "5d669a41",
   "metadata": {},
   "outputs": [],
   "source": [
    "def q1(x):\n",
    "    return x.quantile(0.25)\n",
    "\n",
    "\n",
    "def q3(x):\n",
    "    return x.quantile(0.75)"
   ]
  },
  {
   "cell_type": "code",
   "execution_count": 268,
   "id": "de713304",
   "metadata": {},
   "outputs": [
    {
     "data": {
      "text/html": [
       "<div>\n",
       "<style scoped>\n",
       "    .dataframe tbody tr th:only-of-type {\n",
       "        vertical-align: middle;\n",
       "    }\n",
       "\n",
       "    .dataframe tbody tr th {\n",
       "        vertical-align: top;\n",
       "    }\n",
       "\n",
       "    .dataframe thead tr th {\n",
       "        text-align: left;\n",
       "    }\n",
       "\n",
       "    .dataframe thead tr:last-of-type th {\n",
       "        text-align: right;\n",
       "    }\n",
       "</style>\n",
       "<table border=\"1\" class=\"dataframe\">\n",
       "  <thead>\n",
       "    <tr>\n",
       "      <th></th>\n",
       "      <th colspan=\"5\" halign=\"left\">sales</th>\n",
       "    </tr>\n",
       "    <tr>\n",
       "      <th></th>\n",
       "      <th>min</th>\n",
       "      <th>q1</th>\n",
       "      <th>median</th>\n",
       "      <th>q3</th>\n",
       "      <th>max</th>\n",
       "    </tr>\n",
       "    <tr>\n",
       "      <th>Gender</th>\n",
       "      <th></th>\n",
       "      <th></th>\n",
       "      <th></th>\n",
       "      <th></th>\n",
       "      <th></th>\n",
       "    </tr>\n",
       "  </thead>\n",
       "  <tbody>\n",
       "    <tr>\n",
       "      <th>Female</th>\n",
       "      <td>12.09</td>\n",
       "      <td>126.44</td>\n",
       "      <td>259.6</td>\n",
       "      <td>463.28</td>\n",
       "      <td>993.0</td>\n",
       "    </tr>\n",
       "    <tr>\n",
       "      <th>Male</th>\n",
       "      <td>10.17</td>\n",
       "      <td>112.33</td>\n",
       "      <td>232.6</td>\n",
       "      <td>435.08</td>\n",
       "      <td>989.8</td>\n",
       "    </tr>\n",
       "  </tbody>\n",
       "</table>\n",
       "</div>"
      ],
      "text/plain": [
       "        sales                              \n",
       "          min      q1 median      q3    max\n",
       "Gender                                     \n",
       "Female  12.09  126.44  259.6  463.28  993.0\n",
       "Male    10.17  112.33  232.6  435.08  989.8"
      ]
     },
     "execution_count": 268,
     "metadata": {},
     "output_type": "execute_result"
    }
   ],
   "source": [
    "sales_by_gender = df.groupby(\"Gender\").agg({\"sales\": [\"min\", q1, \"median\", q3, \"max\"]})\n",
    "sales_by_gender"
   ]
  },
  {
   "cell_type": "code",
   "execution_count": 269,
   "id": "b74fe89f",
   "metadata": {},
   "outputs": [
    {
     "data": {
      "text/plain": [
       "Text(0, 0.5, 'Transaction value')"
      ]
     },
     "execution_count": 269,
     "metadata": {},
     "output_type": "execute_result"
    },
    {
     "data": {
      "image/png": "[encoded data removed]",
      "text/plain": [
       "<Figure size 648x288 with 1 Axes>"
      ]
     },
     "metadata": {},
     "output_type": "display_data"
    }
   ],
   "source": [
    "sbg_plot = sns.boxplot(x=df[\"Gender\"], y=df[\"sales\"], palette=[\"#d27688\", \"#63a6cc\"])\n",
    "sbg_plot.set_ylabel(\"Transaction value\")"
   ]
  },
  {
   "cell_type": "markdown",
   "id": "30b6c37c",
   "metadata": {},
   "source": [
    "Koks parduotuvių tinklo narių ir nenarių krepšelių dydžio rodiklis?"
   ]
  },
  {
   "cell_type": "code",
   "execution_count": 270,
   "id": "6128fe81",
   "metadata": {},
   "outputs": [
    {
     "data": {
      "text/html": [
       "<div>\n",
       "<style scoped>\n",
       "    .dataframe tbody tr th:only-of-type {\n",
       "        vertical-align: middle;\n",
       "    }\n",
       "\n",
       "    .dataframe tbody tr th {\n",
       "        vertical-align: top;\n",
       "    }\n",
       "\n",
       "    .dataframe thead th {\n",
       "        text-align: right;\n",
       "    }\n",
       "</style>\n",
       "<table border=\"1\" class=\"dataframe\">\n",
       "  <thead>\n",
       "    <tr style=\"text-align: right;\">\n",
       "      <th></th>\n",
       "      <th>Customer_type</th>\n",
       "      <th>Quantity</th>\n",
       "    </tr>\n",
       "  </thead>\n",
       "  <tbody>\n",
       "    <tr>\n",
       "      <th>0</th>\n",
       "      <td>Member</td>\n",
       "      <td>5.56</td>\n",
       "    </tr>\n",
       "    <tr>\n",
       "      <th>1</th>\n",
       "      <td>Normal</td>\n",
       "      <td>5.46</td>\n",
       "    </tr>\n",
       "  </tbody>\n",
       "</table>\n",
       "</div>"
      ],
      "text/plain": [
       "  Customer_type  Quantity\n",
       "0        Member      5.56\n",
       "1        Normal      5.46"
      ]
     },
     "execution_count": 270,
     "metadata": {},
     "output_type": "execute_result"
    }
   ],
   "source": [
    "customer_type_basket = df[[\"Customer_type\", \"Quantity\"]]\n",
    "cus_type_grp = customer_type_basket.groupby(\"Customer_type\", as_index=False).mean().round(2)\n",
    "cus_type_grp"
   ]
  },
  {
   "cell_type": "code",
   "execution_count": 271,
   "id": "914dcf74",
   "metadata": {},
   "outputs": [
    {
     "data": {
      "text/plain": [
       "[Text(0, 0, '5.56'), Text(0, 0, '5.46')]"
      ]
     },
     "execution_count": 271,
     "metadata": {},
     "output_type": "execute_result"
    },
    {
     "data": {
      "image/png": "[encoded data removed]",
      "text/plain": [
       "<Figure size 648x288 with 1 Axes>"
      ]
     },
     "metadata": {},
     "output_type": "display_data"
    }
   ],
   "source": [
    "ctb_bar = sns.barplot(x=\"Quantity\", y=\"Customer_type\", data=cus_type_grp)\n",
    "ctb_bar.set_xlabel(\"AVG Basket size\")\n",
    "ctb_bar.bar_label(ctb_bar.containers[0])"
   ]
  },
  {
   "cell_type": "markdown",
   "id": "028ce365",
   "metadata": {},
   "source": [
    "Kaip apsipirkimų skaičius pasiskirstęs pagal apmokėjimų būdus?"
   ]
  },
  {
   "cell_type": "code",
   "execution_count": 272,
   "id": "ab9663b3",
   "metadata": {},
   "outputs": [
    {
     "data": {
      "text/html": [
       "<div>\n",
       "<style scoped>\n",
       "    .dataframe tbody tr th:only-of-type {\n",
       "        vertical-align: middle;\n",
       "    }\n",
       "\n",
       "    .dataframe tbody tr th {\n",
       "        vertical-align: top;\n",
       "    }\n",
       "\n",
       "    .dataframe thead th {\n",
       "        text-align: right;\n",
       "    }\n",
       "</style>\n",
       "<table border=\"1\" class=\"dataframe\">\n",
       "  <thead>\n",
       "    <tr style=\"text-align: right;\">\n",
       "      <th></th>\n",
       "      <th>index</th>\n",
       "      <th>Payment</th>\n",
       "    </tr>\n",
       "  </thead>\n",
       "  <tbody>\n",
       "    <tr>\n",
       "      <th>0</th>\n",
       "      <td>Ewallet</td>\n",
       "      <td>345</td>\n",
       "    </tr>\n",
       "    <tr>\n",
       "      <th>1</th>\n",
       "      <td>Cash</td>\n",
       "      <td>344</td>\n",
       "    </tr>\n",
       "    <tr>\n",
       "      <th>2</th>\n",
       "      <td>Credit card</td>\n",
       "      <td>311</td>\n",
       "    </tr>\n",
       "  </tbody>\n",
       "</table>\n",
       "</div>"
      ],
      "text/plain": [
       "         index  Payment\n",
       "0      Ewallet      345\n",
       "1         Cash      344\n",
       "2  Credit card      311"
      ]
     },
     "execution_count": 272,
     "metadata": {},
     "output_type": "execute_result"
    }
   ],
   "source": [
    "payment_type = df[\"Payment\"].value_counts().reset_index()\n",
    "payment_type"
   ]
  },
  {
   "cell_type": "code",
   "execution_count": 273,
   "id": "5f59f491",
   "metadata": {},
   "outputs": [
    {
     "data": {
      "text/plain": [
       "[Text(0, 0, '345'), Text(0, 0, '344'), Text(0, 0, '311')]"
      ]
     },
     "execution_count": 273,
     "metadata": {},
     "output_type": "execute_result"
    },
    {
     "data": {
      "image/png": "[encoded data removed]",
      "text/plain": [
       "<Figure size 648x288 with 1 Axes>"
      ]
     },
     "metadata": {},
     "output_type": "display_data"
    }
   ],
   "source": [
    "pt_plot = sns.countplot(x=\"Payment\", data=df)\n",
    "pt_plot.set_ylabel(\"Transactions\")\n",
    "pt_plot.set_xlabel(\"Payment type\")\n",
    "pt_plot.bar_label(pt_plot.containers[0])"
   ]
  },
  {
   "cell_type": "markdown",
   "id": "0c3204f6",
   "metadata": {},
   "source": [
    "Kaip pasiskirstę reitingai tarp vyrų ir moterų?"
   ]
  },
  {
   "cell_type": "code",
   "execution_count": 274,
   "id": "2419f8b4",
   "metadata": {},
   "outputs": [
    {
     "data": {
      "text/html": [
       "<div>\n",
       "<style scoped>\n",
       "    .dataframe tbody tr th:only-of-type {\n",
       "        vertical-align: middle;\n",
       "    }\n",
       "\n",
       "    .dataframe tbody tr th {\n",
       "        vertical-align: top;\n",
       "    }\n",
       "\n",
       "    .dataframe thead th {\n",
       "        text-align: right;\n",
       "    }\n",
       "</style>\n",
       "<table border=\"1\" class=\"dataframe\">\n",
       "  <thead>\n",
       "    <tr style=\"text-align: right;\">\n",
       "      <th>Gender</th>\n",
       "      <th>Female</th>\n",
       "      <th>Male</th>\n",
       "    </tr>\n",
       "    <tr>\n",
       "      <th>Rating</th>\n",
       "      <th></th>\n",
       "      <th></th>\n",
       "    </tr>\n",
       "  </thead>\n",
       "  <tbody>\n",
       "    <tr>\n",
       "      <th>4.0</th>\n",
       "      <td>6</td>\n",
       "      <td>5</td>\n",
       "    </tr>\n",
       "    <tr>\n",
       "      <th>4.1</th>\n",
       "      <td>13</td>\n",
       "      <td>4</td>\n",
       "    </tr>\n",
       "    <tr>\n",
       "      <th>4.2</th>\n",
       "      <td>14</td>\n",
       "      <td>8</td>\n",
       "    </tr>\n",
       "    <tr>\n",
       "      <th>4.3</th>\n",
       "      <td>7</td>\n",
       "      <td>11</td>\n",
       "    </tr>\n",
       "    <tr>\n",
       "      <th>4.4</th>\n",
       "      <td>7</td>\n",
       "      <td>10</td>\n",
       "    </tr>\n",
       "    <tr>\n",
       "      <th>...</th>\n",
       "      <td>...</td>\n",
       "      <td>...</td>\n",
       "    </tr>\n",
       "    <tr>\n",
       "      <th>9.6</th>\n",
       "      <td>9</td>\n",
       "      <td>8</td>\n",
       "    </tr>\n",
       "    <tr>\n",
       "      <th>9.7</th>\n",
       "      <td>7</td>\n",
       "      <td>7</td>\n",
       "    </tr>\n",
       "    <tr>\n",
       "      <th>9.8</th>\n",
       "      <td>7</td>\n",
       "      <td>12</td>\n",
       "    </tr>\n",
       "    <tr>\n",
       "      <th>9.9</th>\n",
       "      <td>8</td>\n",
       "      <td>8</td>\n",
       "    </tr>\n",
       "    <tr>\n",
       "      <th>10.0</th>\n",
       "      <td>4</td>\n",
       "      <td>1</td>\n",
       "    </tr>\n",
       "  </tbody>\n",
       "</table>\n",
       "<p>61 rows × 2 columns</p>\n",
       "</div>"
      ],
      "text/plain": [
       "Gender  Female  Male\n",
       "Rating              \n",
       "4.0          6     5\n",
       "4.1         13     4\n",
       "4.2         14     8\n",
       "4.3          7    11\n",
       "4.4          7    10\n",
       "...        ...   ...\n",
       "9.6          9     8\n",
       "9.7          7     7\n",
       "9.8          7    12\n",
       "9.9          8     8\n",
       "10.0         4     1\n",
       "\n",
       "[61 rows x 2 columns]"
      ]
     },
     "execution_count": 274,
     "metadata": {},
     "output_type": "execute_result"
    }
   ],
   "source": [
    "rate_gender = df.groupby([\"Rating\", \"Gender\"]).size()\n",
    "rate_gender.unstack()"
   ]
  },
  {
   "cell_type": "code",
   "execution_count": 275,
   "id": "99fd3510",
   "metadata": {
    "scrolled": true
   },
   "outputs": [
    {
     "data": {
      "text/plain": [
       "<seaborn.axisgrid.FacetGrid at 0x237ee3b3c40>"
      ]
     },
     "execution_count": 275,
     "metadata": {},
     "output_type": "execute_result"
    },
    {
     "data": {
      "image/png": "[encoded data removed]",
      "text/plain": [
       "<Figure size 724.35x216 with 1 Axes>"
      ]
     },
     "metadata": {},
     "output_type": "display_data"
    }
   ],
   "source": [
    "rbg_plot = sns.FacetGrid(data=df, hue=\"Gender\", aspect=3, palette=\"hls\")\n",
    "rbg_plot.map(sns.kdeplot, \"Rating\", shade=True)\n",
    "rbg_plot.add_legend()"
   ]
  },
  {
   "cell_type": "markdown",
   "id": "5d297186",
   "metadata": {},
   "source": [
    "Kaip pasiskirstę reitingai tarp narių ir ne?"
   ]
  },
  {
   "cell_type": "code",
   "execution_count": 276,
   "id": "4ce72b51",
   "metadata": {},
   "outputs": [
    {
     "data": {
      "text/html": [
       "<div>\n",
       "<style scoped>\n",
       "    .dataframe tbody tr th:only-of-type {\n",
       "        vertical-align: middle;\n",
       "    }\n",
       "\n",
       "    .dataframe tbody tr th {\n",
       "        vertical-align: top;\n",
       "    }\n",
       "\n",
       "    .dataframe thead th {\n",
       "        text-align: right;\n",
       "    }\n",
       "</style>\n",
       "<table border=\"1\" class=\"dataframe\">\n",
       "  <thead>\n",
       "    <tr style=\"text-align: right;\">\n",
       "      <th>Customer_type</th>\n",
       "      <th>Member</th>\n",
       "      <th>Normal</th>\n",
       "    </tr>\n",
       "    <tr>\n",
       "      <th>Rating</th>\n",
       "      <th></th>\n",
       "      <th></th>\n",
       "    </tr>\n",
       "  </thead>\n",
       "  <tbody>\n",
       "    <tr>\n",
       "      <th>4.0</th>\n",
       "      <td>7</td>\n",
       "      <td>4</td>\n",
       "    </tr>\n",
       "    <tr>\n",
       "      <th>4.1</th>\n",
       "      <td>9</td>\n",
       "      <td>8</td>\n",
       "    </tr>\n",
       "    <tr>\n",
       "      <th>4.2</th>\n",
       "      <td>11</td>\n",
       "      <td>11</td>\n",
       "    </tr>\n",
       "    <tr>\n",
       "      <th>4.3</th>\n",
       "      <td>11</td>\n",
       "      <td>7</td>\n",
       "    </tr>\n",
       "    <tr>\n",
       "      <th>4.4</th>\n",
       "      <td>7</td>\n",
       "      <td>10</td>\n",
       "    </tr>\n",
       "    <tr>\n",
       "      <th>...</th>\n",
       "      <td>...</td>\n",
       "      <td>...</td>\n",
       "    </tr>\n",
       "    <tr>\n",
       "      <th>9.6</th>\n",
       "      <td>7</td>\n",
       "      <td>10</td>\n",
       "    </tr>\n",
       "    <tr>\n",
       "      <th>9.7</th>\n",
       "      <td>8</td>\n",
       "      <td>6</td>\n",
       "    </tr>\n",
       "    <tr>\n",
       "      <th>9.8</th>\n",
       "      <td>11</td>\n",
       "      <td>8</td>\n",
       "    </tr>\n",
       "    <tr>\n",
       "      <th>9.9</th>\n",
       "      <td>7</td>\n",
       "      <td>9</td>\n",
       "    </tr>\n",
       "    <tr>\n",
       "      <th>10.0</th>\n",
       "      <td>2</td>\n",
       "      <td>3</td>\n",
       "    </tr>\n",
       "  </tbody>\n",
       "</table>\n",
       "<p>61 rows × 2 columns</p>\n",
       "</div>"
      ],
      "text/plain": [
       "Customer_type  Member  Normal\n",
       "Rating                       \n",
       "4.0                 7       4\n",
       "4.1                 9       8\n",
       "4.2                11      11\n",
       "4.3                11       7\n",
       "4.4                 7      10\n",
       "...               ...     ...\n",
       "9.6                 7      10\n",
       "9.7                 8       6\n",
       "9.8                11       8\n",
       "9.9                 7       9\n",
       "10.0                2       3\n",
       "\n",
       "[61 rows x 2 columns]"
      ]
     },
     "execution_count": 276,
     "metadata": {},
     "output_type": "execute_result"
    }
   ],
   "source": [
    "rate_member = df.groupby([\"Rating\", \"Customer_type\"]).size()\n",
    "rate_member.unstack()"
   ]
  },
  {
   "cell_type": "code",
   "execution_count": 277,
   "id": "54a6ff78",
   "metadata": {},
   "outputs": [
    {
     "data": {
      "text/plain": [
       "<seaborn.axisgrid.FacetGrid at 0x237ee4d3fd0>"
      ]
     },
     "execution_count": 277,
     "metadata": {},
     "output_type": "execute_result"
    },
    {
     "data": {
      "image/png": "[encoded data removed]",
      "text/plain": [
       "<Figure size 738.3x216 with 1 Axes>"
      ]
     },
     "metadata": {},
     "output_type": "display_data"
    }
   ],
   "source": [
    "rct_plot = sns.FacetGrid(data=df, hue=\"Customer_type\", aspect=3, palette=\"hls\")\n",
    "rct_plot.map(sns.kdeplot, \"Rating\", shade=True)\n",
    "rct_plot.add_legend()"
   ]
  },
  {
   "cell_type": "markdown",
   "id": "d7201073",
   "metadata": {},
   "source": [
    "### Produktų analizė"
   ]
  },
  {
   "cell_type": "markdown",
   "id": "3ca9608b",
   "metadata": {},
   "source": [
    "Kurią valandą daugiausia parduodama produktų?"
   ]
  },
  {
   "cell_type": "code",
   "execution_count": 278,
   "id": "24f534b6",
   "metadata": {},
   "outputs": [
    {
     "data": {
      "text/html": [
       "<div>\n",
       "<style scoped>\n",
       "    .dataframe tbody tr th:only-of-type {\n",
       "        vertical-align: middle;\n",
       "    }\n",
       "\n",
       "    .dataframe tbody tr th {\n",
       "        vertical-align: top;\n",
       "    }\n",
       "\n",
       "    .dataframe thead th {\n",
       "        text-align: right;\n",
       "    }\n",
       "</style>\n",
       "<table border=\"1\" class=\"dataframe\">\n",
       "  <thead>\n",
       "    <tr style=\"text-align: right;\">\n",
       "      <th></th>\n",
       "      <th>Hour</th>\n",
       "      <th>Quantity</th>\n",
       "    </tr>\n",
       "  </thead>\n",
       "  <tbody>\n",
       "    <tr>\n",
       "      <th>0</th>\n",
       "      <td>10</td>\n",
       "      <td>5.2</td>\n",
       "    </tr>\n",
       "    <tr>\n",
       "      <th>1</th>\n",
       "      <td>11</td>\n",
       "      <td>5.7</td>\n",
       "    </tr>\n",
       "    <tr>\n",
       "      <th>2</th>\n",
       "      <td>12</td>\n",
       "      <td>5.6</td>\n",
       "    </tr>\n",
       "    <tr>\n",
       "      <th>3</th>\n",
       "      <td>13</td>\n",
       "      <td>5.7</td>\n",
       "    </tr>\n",
       "    <tr>\n",
       "      <th>4</th>\n",
       "      <td>14</td>\n",
       "      <td>6.0</td>\n",
       "    </tr>\n",
       "    <tr>\n",
       "      <th>5</th>\n",
       "      <td>15</td>\n",
       "      <td>5.2</td>\n",
       "    </tr>\n",
       "    <tr>\n",
       "      <th>6</th>\n",
       "      <td>16</td>\n",
       "      <td>5.5</td>\n",
       "    </tr>\n",
       "    <tr>\n",
       "      <th>7</th>\n",
       "      <td>17</td>\n",
       "      <td>5.6</td>\n",
       "    </tr>\n",
       "    <tr>\n",
       "      <th>8</th>\n",
       "      <td>18</td>\n",
       "      <td>5.1</td>\n",
       "    </tr>\n",
       "    <tr>\n",
       "      <th>9</th>\n",
       "      <td>19</td>\n",
       "      <td>5.7</td>\n",
       "    </tr>\n",
       "    <tr>\n",
       "      <th>10</th>\n",
       "      <td>20</td>\n",
       "      <td>5.4</td>\n",
       "    </tr>\n",
       "  </tbody>\n",
       "</table>\n",
       "</div>"
      ],
      "text/plain": [
       "    Hour  Quantity\n",
       "0     10       5.2\n",
       "1     11       5.7\n",
       "2     12       5.6\n",
       "3     13       5.7\n",
       "4     14       6.0\n",
       "5     15       5.2\n",
       "6     16       5.5\n",
       "7     17       5.6\n",
       "8     18       5.1\n",
       "9     19       5.7\n",
       "10    20       5.4"
      ]
     },
     "execution_count": 278,
     "metadata": {},
     "output_type": "execute_result"
    }
   ],
   "source": [
    "basket_size_per_hour = df.groupby(\"Hour\")[\"Quantity\"].mean().reset_index().round(1)\n",
    "basket_size_per_hour"
   ]
  },
  {
   "cell_type": "code",
   "execution_count": 279,
   "id": "97bb7587",
   "metadata": {
    "scrolled": false
   },
   "outputs": [
    {
     "data": {
      "text/plain": [
       "Text(0, 0.5, 'AVG Basket size')"
      ]
     },
     "execution_count": 279,
     "metadata": {},
     "output_type": "execute_result"
    },
    {
     "data": {
      "image/png": "[encoded data removed]",
      "text/plain": [
       "<Figure size 648x288 with 1 Axes>"
      ]
     },
     "metadata": {},
     "output_type": "display_data"
    }
   ],
   "source": [
    "bsph_plot = sns.lineplot(x=\"Hour\", y=\"Quantity\", data=df)\n",
    "bsph_plot.set_ylabel(\"AVG Basket size\")"
   ]
  },
  {
   "cell_type": "markdown",
   "id": "cc4f6419",
   "metadata": {},
   "source": [
    "Kurios produktų linijos pelningiausios?"
   ]
  },
  {
   "cell_type": "code",
   "execution_count": 280,
   "id": "e2937c25",
   "metadata": {
    "scrolled": false
   },
   "outputs": [
    {
     "data": {
      "text/html": [
       "<div>\n",
       "<style scoped>\n",
       "    .dataframe tbody tr th:only-of-type {\n",
       "        vertical-align: middle;\n",
       "    }\n",
       "\n",
       "    .dataframe tbody tr th {\n",
       "        vertical-align: top;\n",
       "    }\n",
       "\n",
       "    .dataframe thead th {\n",
       "        text-align: right;\n",
       "    }\n",
       "</style>\n",
       "<table border=\"1\" class=\"dataframe\">\n",
       "  <thead>\n",
       "    <tr style=\"text-align: right;\">\n",
       "      <th></th>\n",
       "      <th>Product_line</th>\n",
       "      <th>AVG_gross_margin</th>\n",
       "    </tr>\n",
       "  </thead>\n",
       "  <tbody>\n",
       "    <tr>\n",
       "      <th>0</th>\n",
       "      <td>Health and beauty</td>\n",
       "      <td>19.19</td>\n",
       "    </tr>\n",
       "    <tr>\n",
       "      <th>1</th>\n",
       "      <td>Fashion accessories</td>\n",
       "      <td>18.28</td>\n",
       "    </tr>\n",
       "    <tr>\n",
       "      <th>2</th>\n",
       "      <td>Home and lifestyle</td>\n",
       "      <td>16.86</td>\n",
       "    </tr>\n",
       "    <tr>\n",
       "      <th>3</th>\n",
       "      <td>Food and beverages</td>\n",
       "      <td>16.56</td>\n",
       "    </tr>\n",
       "    <tr>\n",
       "      <th>4</th>\n",
       "      <td>Electronic accessories</td>\n",
       "      <td>16.44</td>\n",
       "    </tr>\n",
       "    <tr>\n",
       "      <th>5</th>\n",
       "      <td>Sports and travel</td>\n",
       "      <td>15.89</td>\n",
       "    </tr>\n",
       "  </tbody>\n",
       "</table>\n",
       "</div>"
      ],
      "text/plain": [
       "             Product_line  AVG_gross_margin\n",
       "0       Health and beauty             19.19\n",
       "1     Fashion accessories             18.28\n",
       "2      Home and lifestyle             16.86\n",
       "3      Food and beverages             16.56\n",
       "4  Electronic accessories             16.44\n",
       "5       Sports and travel             15.89"
      ]
     },
     "execution_count": 280,
     "metadata": {},
     "output_type": "execute_result"
    }
   ],
   "source": [
    "products_gross_margin = (\n",
    "    (\n",
    "        (\n",
    "            df.groupby(\"Product_line\")[\"gross_income\"].sum()\n",
    "            / df.groupby(\"Product_line\")[\"sales\"].sum()\n",
    "        )\n",
    "        * 100\n",
    "    )\n",
    "    .sort_values(ascending=False)\n",
    "    .reset_index(name=\"AVG_gross_margin\")\n",
    "    .round(2)\n",
    ")\n",
    "products_gross_margin"
   ]
  },
  {
   "cell_type": "code",
   "execution_count": 281,
   "id": "afd1a795",
   "metadata": {},
   "outputs": [
    {
     "data": {
      "text/plain": [
       "[Text(0, 0, '19.19'),\n",
       " Text(0, 0, '18.28'),\n",
       " Text(0, 0, '16.86'),\n",
       " Text(0, 0, '16.56'),\n",
       " Text(0, 0, '16.44'),\n",
       " Text(0, 0, '15.89')]"
      ]
     },
     "execution_count": 281,
     "metadata": {},
     "output_type": "execute_result"
    },
    {
     "data": {
      "image/png": "[encoded data removed]",
      "text/plain": [
       "<Figure size 648x288 with 1 Axes>"
      ]
     },
     "metadata": {},
     "output_type": "display_data"
    }
   ],
   "source": [
    "pgm_plot = sns.barplot(data=products_gross_margin, x=\"Product_line\", y = 'AVG_gross_margin')\n",
    "pgm_plot.set_xticklabels(pgm_plot.get_xticklabels(), rotation=330)\n",
    "pgm_plot.bar_label(pgm_plot.containers[0])"
   ]
  },
  {
   "cell_type": "markdown",
   "id": "50bc7e2b",
   "metadata": {},
   "source": [
    "### Apyvarta laiko periode"
   ]
  },
  {
   "cell_type": "markdown",
   "id": "4e56a441",
   "metadata": {},
   "source": [
    "Kokie pardavimai pamėnesiui?"
   ]
  },
  {
   "cell_type": "code",
   "execution_count": 282,
   "id": "bd9c5986",
   "metadata": {},
   "outputs": [
    {
     "data": {
      "text/html": [
       "<div>\n",
       "<style scoped>\n",
       "    .dataframe tbody tr th:only-of-type {\n",
       "        vertical-align: middle;\n",
       "    }\n",
       "\n",
       "    .dataframe tbody tr th {\n",
       "        vertical-align: top;\n",
       "    }\n",
       "\n",
       "    .dataframe thead th {\n",
       "        text-align: right;\n",
       "    }\n",
       "</style>\n",
       "<table border=\"1\" class=\"dataframe\">\n",
       "  <thead>\n",
       "    <tr style=\"text-align: right;\">\n",
       "      <th></th>\n",
       "      <th>Month</th>\n",
       "      <th>sales</th>\n",
       "    </tr>\n",
       "  </thead>\n",
       "  <tbody>\n",
       "    <tr>\n",
       "      <th>0</th>\n",
       "      <td>Feb</td>\n",
       "      <td>92590.0</td>\n",
       "    </tr>\n",
       "    <tr>\n",
       "      <th>1</th>\n",
       "      <td>Jan</td>\n",
       "      <td>110754.0</td>\n",
       "    </tr>\n",
       "    <tr>\n",
       "      <th>2</th>\n",
       "      <td>Mar</td>\n",
       "      <td>104243.0</td>\n",
       "    </tr>\n",
       "  </tbody>\n",
       "</table>\n",
       "</div>"
      ],
      "text/plain": [
       "  Month     sales\n",
       "0   Feb   92590.0\n",
       "1   Jan  110754.0\n",
       "2   Mar  104243.0"
      ]
     },
     "execution_count": 282,
     "metadata": {},
     "output_type": "execute_result"
    }
   ],
   "source": [
    "sales_by_month = df.groupby(\"Month\")[\"sales\"].sum().reset_index().round(0)\n",
    "sales_by_month"
   ]
  },
  {
   "cell_type": "code",
   "execution_count": 283,
   "id": "49785110",
   "metadata": {},
   "outputs": [
    {
     "data": {
      "image/png": "[encoded data removed]",
      "text/plain": [
       "<Figure size 648x288 with 1 Axes>"
      ]
     },
     "metadata": {},
     "output_type": "display_data"
    }
   ],
   "source": [
    "sbm_plot = sns.lineplot(x=\"Month\", y=\"sales\", data=sales_by_month)"
   ]
  },
  {
   "cell_type": "markdown",
   "id": "755fd733",
   "metadata": {},
   "source": [
    "Kokia apyvarta padieniui?"
   ]
  },
  {
   "cell_type": "code",
   "execution_count": 284,
   "id": "e759f94f",
   "metadata": {},
   "outputs": [
    {
     "data": {
      "text/html": [
       "<div>\n",
       "<style scoped>\n",
       "    .dataframe tbody tr th:only-of-type {\n",
       "        vertical-align: middle;\n",
       "    }\n",
       "\n",
       "    .dataframe tbody tr th {\n",
       "        vertical-align: top;\n",
       "    }\n",
       "\n",
       "    .dataframe thead th {\n",
       "        text-align: right;\n",
       "    }\n",
       "</style>\n",
       "<table border=\"1\" class=\"dataframe\">\n",
       "  <thead>\n",
       "    <tr style=\"text-align: right;\">\n",
       "      <th></th>\n",
       "      <th>Date</th>\n",
       "      <th>sales</th>\n",
       "    </tr>\n",
       "  </thead>\n",
       "  <tbody>\n",
       "    <tr>\n",
       "      <th>0</th>\n",
       "      <td>2019-01-01</td>\n",
       "      <td>4519.0</td>\n",
       "    </tr>\n",
       "    <tr>\n",
       "      <th>1</th>\n",
       "      <td>2019-01-02</td>\n",
       "      <td>1853.0</td>\n",
       "    </tr>\n",
       "    <tr>\n",
       "      <th>2</th>\n",
       "      <td>2019-01-03</td>\n",
       "      <td>1979.0</td>\n",
       "    </tr>\n",
       "    <tr>\n",
       "      <th>3</th>\n",
       "      <td>2019-01-04</td>\n",
       "      <td>1546.0</td>\n",
       "    </tr>\n",
       "    <tr>\n",
       "      <th>4</th>\n",
       "      <td>2019-01-05</td>\n",
       "      <td>3368.0</td>\n",
       "    </tr>\n",
       "    <tr>\n",
       "      <th>...</th>\n",
       "      <td>...</td>\n",
       "      <td>...</td>\n",
       "    </tr>\n",
       "    <tr>\n",
       "      <th>84</th>\n",
       "      <td>2019-03-26</td>\n",
       "      <td>1869.0</td>\n",
       "    </tr>\n",
       "    <tr>\n",
       "      <th>85</th>\n",
       "      <td>2019-03-27</td>\n",
       "      <td>2765.0</td>\n",
       "    </tr>\n",
       "    <tr>\n",
       "      <th>86</th>\n",
       "      <td>2019-03-28</td>\n",
       "      <td>2123.0</td>\n",
       "    </tr>\n",
       "    <tr>\n",
       "      <th>87</th>\n",
       "      <td>2019-03-29</td>\n",
       "      <td>3832.0</td>\n",
       "    </tr>\n",
       "    <tr>\n",
       "      <th>88</th>\n",
       "      <td>2019-03-30</td>\n",
       "      <td>4273.0</td>\n",
       "    </tr>\n",
       "  </tbody>\n",
       "</table>\n",
       "<p>89 rows × 2 columns</p>\n",
       "</div>"
      ],
      "text/plain": [
       "         Date   sales\n",
       "0  2019-01-01  4519.0\n",
       "1  2019-01-02  1853.0\n",
       "2  2019-01-03  1979.0\n",
       "3  2019-01-04  1546.0\n",
       "4  2019-01-05  3368.0\n",
       "..        ...     ...\n",
       "84 2019-03-26  1869.0\n",
       "85 2019-03-27  2765.0\n",
       "86 2019-03-28  2123.0\n",
       "87 2019-03-29  3832.0\n",
       "88 2019-03-30  4273.0\n",
       "\n",
       "[89 rows x 2 columns]"
      ]
     },
     "execution_count": 284,
     "metadata": {},
     "output_type": "execute_result"
    }
   ],
   "source": [
    "sales_by_date = df.groupby(\"Date\")[\"sales\"].sum().reset_index().round(0)\n",
    "sales_by_date"
   ]
  },
  {
   "cell_type": "code",
   "execution_count": 285,
   "id": "e7f84472",
   "metadata": {},
   "outputs": [
    {
     "data": {
      "image/png": "[encoded data removed]",
      "text/plain": [
       "<Figure size 648x288 with 1 Axes>"
      ]
     },
     "metadata": {},
     "output_type": "display_data"
    }
   ],
   "source": [
    "sbt_plot = sns.lineplot(x=\"Date\", y=\"sales\", data=sales_by_date)\n",
    "sns.set(rc={'figure.figsize':(9,4)})"
   ]
  },
  {
   "cell_type": "markdown",
   "id": "8ece1b88",
   "metadata": {},
   "source": [
    "Kaip apsipirkimų skaičius pasiskirstęs per savaitės dienas?"
   ]
  },
  {
   "cell_type": "code",
   "execution_count": 286,
   "id": "87d4a807",
   "metadata": {},
   "outputs": [],
   "source": [
    "weekdays = [\n",
    "    \"Monday\",\n",
    "    \"Tuesday\",\n",
    "    \"Wednesday\",\n",
    "    \"Thursday\",\n",
    "    \"Friday\",\n",
    "    \"Saturday\",\n",
    "    \"Sunday\",\n",
    "]"
   ]
  },
  {
   "cell_type": "code",
   "execution_count": 287,
   "id": "852b82a9",
   "metadata": {
    "scrolled": true
   },
   "outputs": [
    {
     "data": {
      "text/html": [
       "<div>\n",
       "<style scoped>\n",
       "    .dataframe tbody tr th:only-of-type {\n",
       "        vertical-align: middle;\n",
       "    }\n",
       "\n",
       "    .dataframe tbody tr th {\n",
       "        vertical-align: top;\n",
       "    }\n",
       "\n",
       "    .dataframe thead th {\n",
       "        text-align: right;\n",
       "    }\n",
       "</style>\n",
       "<table border=\"1\" class=\"dataframe\">\n",
       "  <thead>\n",
       "    <tr style=\"text-align: right;\">\n",
       "      <th></th>\n",
       "      <th>day_of_week</th>\n",
       "      <th>sales</th>\n",
       "    </tr>\n",
       "  </thead>\n",
       "  <tbody>\n",
       "    <tr>\n",
       "      <th>0</th>\n",
       "      <td>Monday</td>\n",
       "      <td>36094.0</td>\n",
       "    </tr>\n",
       "    <tr>\n",
       "      <th>1</th>\n",
       "      <td>Tuesday</td>\n",
       "      <td>49031.0</td>\n",
       "    </tr>\n",
       "    <tr>\n",
       "      <th>2</th>\n",
       "      <td>Wednesday</td>\n",
       "      <td>41649.0</td>\n",
       "    </tr>\n",
       "    <tr>\n",
       "      <th>3</th>\n",
       "      <td>Thursday</td>\n",
       "      <td>43190.0</td>\n",
       "    </tr>\n",
       "    <tr>\n",
       "      <th>4</th>\n",
       "      <td>Friday</td>\n",
       "      <td>41835.0</td>\n",
       "    </tr>\n",
       "    <tr>\n",
       "      <th>5</th>\n",
       "      <td>Saturday</td>\n",
       "      <td>53448.0</td>\n",
       "    </tr>\n",
       "    <tr>\n",
       "      <th>6</th>\n",
       "      <td>Sunday</td>\n",
       "      <td>42341.0</td>\n",
       "    </tr>\n",
       "  </tbody>\n",
       "</table>\n",
       "</div>"
      ],
      "text/plain": [
       "  day_of_week    sales\n",
       "0      Monday  36094.0\n",
       "1     Tuesday  49031.0\n",
       "2   Wednesday  41649.0\n",
       "3    Thursday  43190.0\n",
       "4      Friday  41835.0\n",
       "5    Saturday  53448.0\n",
       "6      Sunday  42341.0"
      ]
     },
     "execution_count": 287,
     "metadata": {},
     "output_type": "execute_result"
    }
   ],
   "source": [
    "sales_by_weekday = df.groupby(\"day_of_week\")[\"sales\"].sum().round(0).reindex(weekdays).reset_index()\n",
    "sales_by_weekday"
   ]
  },
  {
   "cell_type": "code",
   "execution_count": 288,
   "id": "32ca3bed",
   "metadata": {
    "scrolled": true
   },
   "outputs": [
    {
     "data": {
      "image/png": "[encoded data removed]",
      "text/plain": [
       "<Figure size 648x288 with 1 Axes>"
      ]
     },
     "metadata": {},
     "output_type": "display_data"
    }
   ],
   "source": [
    "sbw_plot = sns.barplot(data=sales_by_weekday, x=\"day_of_week\", y = 'sales', order=weekdays)\n"
   ]
  },
  {
   "cell_type": "markdown",
   "id": "ae5f9b80",
   "metadata": {},
   "source": [
    "Kokia vid. dienos apyvarta šventinėmis ir ne dienomis?"
   ]
  },
  {
   "cell_type": "code",
   "execution_count": 289,
   "id": "5b3b815d",
   "metadata": {
    "scrolled": true
   },
   "outputs": [
    {
     "data": {
      "text/plain": [
       "min   2019-01-01\n",
       "max   2019-03-30\n",
       "Name: Date, dtype: datetime64[ns]"
      ]
     },
     "execution_count": 289,
     "metadata": {},
     "output_type": "execute_result"
    }
   ],
   "source": [
    "# Turimų duomenų laikotarpis:\n",
    "df[\"Date\"].agg([\"min\", \"max\"])"
   ]
  },
  {
   "cell_type": "code",
   "execution_count": 290,
   "id": "4d7c5bc3",
   "metadata": {},
   "outputs": [],
   "source": [
    "# Mianmaro šventės turimame laikotrapy:\n",
    "# New year's date = 2019-01-01,\n",
    "# Independence day = 2019-01-04,\n",
    "# Union Day = 2019-02-12,\n",
    "# Peasant's day = 2019-03-02,\n",
    "# Full Moon day = 2019-03-08,\n",
    "# Resistance day = 2019-03-27.\n",
    "holiday = [\n",
    "    \"2019-01-01\",\n",
    "    \"2019-01-04\",\n",
    "    \"2019-02-12\",\n",
    "    \"2019-03-02\",\n",
    "    \"2019-03-08\",\n",
    "    \"2019-03-27\",\n",
    "]"
   ]
  },
  {
   "cell_type": "code",
   "execution_count": 291,
   "id": "3dd2aa5d",
   "metadata": {},
   "outputs": [],
   "source": [
    "df[\"Holiday\"] = np.where(df[\"Date\"].isin(holiday), True, False)"
   ]
  },
  {
   "cell_type": "code",
   "execution_count": 292,
   "id": "beefe01e",
   "metadata": {
    "scrolled": false
   },
   "outputs": [
    {
     "data": {
      "text/html": [
       "<div>\n",
       "<style scoped>\n",
       "    .dataframe tbody tr th:only-of-type {\n",
       "        vertical-align: middle;\n",
       "    }\n",
       "\n",
       "    .dataframe tbody tr th {\n",
       "        vertical-align: top;\n",
       "    }\n",
       "\n",
       "    .dataframe thead th {\n",
       "        text-align: right;\n",
       "    }\n",
       "</style>\n",
       "<table border=\"1\" class=\"dataframe\">\n",
       "  <thead>\n",
       "    <tr style=\"text-align: right;\">\n",
       "      <th></th>\n",
       "      <th>Holiday</th>\n",
       "      <th>sales</th>\n",
       "    </tr>\n",
       "  </thead>\n",
       "  <tbody>\n",
       "    <tr>\n",
       "      <th>0</th>\n",
       "      <td>False</td>\n",
       "      <td>286677.0</td>\n",
       "    </tr>\n",
       "    <tr>\n",
       "      <th>1</th>\n",
       "      <td>True</td>\n",
       "      <td>20911.0</td>\n",
       "    </tr>\n",
       "  </tbody>\n",
       "</table>\n",
       "</div>"
      ],
      "text/plain": [
       "   Holiday     sales\n",
       "0    False  286677.0\n",
       "1     True   20911.0"
      ]
     },
     "execution_count": 292,
     "metadata": {},
     "output_type": "execute_result"
    }
   ],
   "source": [
    "sales_by_holidays = df.groupby([\"Holiday\"])[\"sales\"].sum().reset_index().round()\n",
    "sales_by_holidays"
   ]
  },
  {
   "cell_type": "code",
   "execution_count": 293,
   "id": "8eb45d11",
   "metadata": {
    "scrolled": false
   },
   "outputs": [
    {
     "data": {
      "text/html": [
       "<div>\n",
       "<style scoped>\n",
       "    .dataframe tbody tr th:only-of-type {\n",
       "        vertical-align: middle;\n",
       "    }\n",
       "\n",
       "    .dataframe tbody tr th {\n",
       "        vertical-align: top;\n",
       "    }\n",
       "\n",
       "    .dataframe thead th {\n",
       "        text-align: right;\n",
       "    }\n",
       "</style>\n",
       "<table border=\"1\" class=\"dataframe\">\n",
       "  <thead>\n",
       "    <tr style=\"text-align: right;\">\n",
       "      <th></th>\n",
       "      <th>Holiday</th>\n",
       "      <th>days</th>\n",
       "    </tr>\n",
       "  </thead>\n",
       "  <tbody>\n",
       "    <tr>\n",
       "      <th>0</th>\n",
       "      <td>False</td>\n",
       "      <td>83</td>\n",
       "    </tr>\n",
       "    <tr>\n",
       "      <th>1</th>\n",
       "      <td>True</td>\n",
       "      <td>6</td>\n",
       "    </tr>\n",
       "  </tbody>\n",
       "</table>\n",
       "</div>"
      ],
      "text/plain": [
       "   Holiday  days\n",
       "0    False    83\n",
       "1     True     6"
      ]
     },
     "execution_count": 293,
     "metadata": {},
     "output_type": "execute_result"
    }
   ],
   "source": [
    "holiday_days_count = df.groupby(\"Holiday\")[\"Date\"].nunique().reset_index().round()\n",
    "holiday_days_count.columns = [\n",
    "    \"days\" if x == \"Date\" else x for x in holiday_days_count.columns\n",
    "]\n",
    "holiday_days_count"
   ]
  },
  {
   "cell_type": "code",
   "execution_count": 294,
   "id": "bae5edae",
   "metadata": {
    "scrolled": true
   },
   "outputs": [
    {
     "data": {
      "text/html": [
       "<div>\n",
       "<style scoped>\n",
       "    .dataframe tbody tr th:only-of-type {\n",
       "        vertical-align: middle;\n",
       "    }\n",
       "\n",
       "    .dataframe tbody tr th {\n",
       "        vertical-align: top;\n",
       "    }\n",
       "\n",
       "    .dataframe thead th {\n",
       "        text-align: right;\n",
       "    }\n",
       "</style>\n",
       "<table border=\"1\" class=\"dataframe\">\n",
       "  <thead>\n",
       "    <tr style=\"text-align: right;\">\n",
       "      <th></th>\n",
       "      <th>Holiday</th>\n",
       "      <th>sales</th>\n",
       "      <th>days</th>\n",
       "    </tr>\n",
       "  </thead>\n",
       "  <tbody>\n",
       "    <tr>\n",
       "      <th>0</th>\n",
       "      <td>False</td>\n",
       "      <td>286677.0</td>\n",
       "      <td>83</td>\n",
       "    </tr>\n",
       "    <tr>\n",
       "      <th>1</th>\n",
       "      <td>True</td>\n",
       "      <td>20911.0</td>\n",
       "      <td>6</td>\n",
       "    </tr>\n",
       "  </tbody>\n",
       "</table>\n",
       "</div>"
      ],
      "text/plain": [
       "   Holiday     sales  days\n",
       "0    False  286677.0    83\n",
       "1     True   20911.0     6"
      ]
     },
     "execution_count": 294,
     "metadata": {},
     "output_type": "execute_result"
    }
   ],
   "source": [
    "holiday_days_sales = pd.merge(sales_by_holidays, holiday_days_count)\n",
    "holiday_days_sales"
   ]
  },
  {
   "cell_type": "code",
   "execution_count": 295,
   "id": "721ba2c0",
   "metadata": {},
   "outputs": [
    {
     "data": {
      "text/html": [
       "<div>\n",
       "<style scoped>\n",
       "    .dataframe tbody tr th:only-of-type {\n",
       "        vertical-align: middle;\n",
       "    }\n",
       "\n",
       "    .dataframe tbody tr th {\n",
       "        vertical-align: top;\n",
       "    }\n",
       "\n",
       "    .dataframe thead th {\n",
       "        text-align: right;\n",
       "    }\n",
       "</style>\n",
       "<table border=\"1\" class=\"dataframe\">\n",
       "  <thead>\n",
       "    <tr style=\"text-align: right;\">\n",
       "      <th></th>\n",
       "      <th>Holiday</th>\n",
       "      <th>sales</th>\n",
       "      <th>days</th>\n",
       "      <th>avg_day_sales</th>\n",
       "    </tr>\n",
       "  </thead>\n",
       "  <tbody>\n",
       "    <tr>\n",
       "      <th>0</th>\n",
       "      <td>False</td>\n",
       "      <td>286677.0</td>\n",
       "      <td>83</td>\n",
       "      <td>3454.0</td>\n",
       "    </tr>\n",
       "    <tr>\n",
       "      <th>1</th>\n",
       "      <td>True</td>\n",
       "      <td>20911.0</td>\n",
       "      <td>6</td>\n",
       "      <td>3485.0</td>\n",
       "    </tr>\n",
       "  </tbody>\n",
       "</table>\n",
       "</div>"
      ],
      "text/plain": [
       "   Holiday     sales  days  avg_day_sales\n",
       "0    False  286677.0    83         3454.0\n",
       "1     True   20911.0     6         3485.0"
      ]
     },
     "execution_count": 295,
     "metadata": {},
     "output_type": "execute_result"
    }
   ],
   "source": [
    "holiday_days_sales[\"avg_day_sales\"] = (\n",
    "    holiday_days_sales[\"sales\"] / holiday_days_sales[\"days\"]\n",
    ").round()\n",
    "holiday_days_sales"
   ]
  },
  {
   "cell_type": "code",
   "execution_count": 296,
   "id": "d4f862a7",
   "metadata": {
    "scrolled": false
   },
   "outputs": [
    {
     "data": {
      "text/plain": [
       "Text(0.5, 1.0, 'Holiday/Non-holiday AVG daily sales')"
      ]
     },
     "execution_count": 296,
     "metadata": {},
     "output_type": "execute_result"
    },
    {
     "data": {
      "image/png": "[encoded data removed]",
      "text/plain": [
       "<Figure size 648x288 with 1 Axes>"
      ]
     },
     "metadata": {},
     "output_type": "display_data"
    }
   ],
   "source": [
    "hds_plot = sns.barplot(x=\"Holiday\", y=\"avg_day_sales\", data=holiday_days_sales)\n",
    "hds_plot.bar_label(hds_plot.containers[0])\n",
    "hds_plot.set_title(\n",
    "    \"Holiday/Non-holiday AVG daily sales\", fontsize=15, fontweight=\"bold\"\n",
    ")"
   ]
  },
  {
   "cell_type": "markdown",
   "id": "6aaed185",
   "metadata": {},
   "source": [
    "Koks vidutinis pirkėjo krepšelis šventinėmis ir ne dienomis per produktų linijas?"
   ]
  },
  {
   "cell_type": "code",
   "execution_count": 297,
   "id": "85ab5656",
   "metadata": {
    "scrolled": false
   },
   "outputs": [
    {
     "data": {
      "text/html": [
       "<div>\n",
       "<style scoped>\n",
       "    .dataframe tbody tr th:only-of-type {\n",
       "        vertical-align: middle;\n",
       "    }\n",
       "\n",
       "    .dataframe tbody tr th {\n",
       "        vertical-align: top;\n",
       "    }\n",
       "\n",
       "    .dataframe thead th {\n",
       "        text-align: right;\n",
       "    }\n",
       "</style>\n",
       "<table border=\"1\" class=\"dataframe\">\n",
       "  <thead>\n",
       "    <tr style=\"text-align: right;\">\n",
       "      <th></th>\n",
       "      <th>Product_line</th>\n",
       "      <th>Holiday</th>\n",
       "      <th>sales</th>\n",
       "    </tr>\n",
       "  </thead>\n",
       "  <tbody>\n",
       "    <tr>\n",
       "      <th>0</th>\n",
       "      <td>Electronic accessories</td>\n",
       "      <td>False</td>\n",
       "      <td>308.0</td>\n",
       "    </tr>\n",
       "    <tr>\n",
       "      <th>1</th>\n",
       "      <td>Electronic accessories</td>\n",
       "      <td>True</td>\n",
       "      <td>262.0</td>\n",
       "    </tr>\n",
       "    <tr>\n",
       "      <th>2</th>\n",
       "      <td>Fashion accessories</td>\n",
       "      <td>False</td>\n",
       "      <td>284.0</td>\n",
       "    </tr>\n",
       "    <tr>\n",
       "      <th>3</th>\n",
       "      <td>Fashion accessories</td>\n",
       "      <td>True</td>\n",
       "      <td>423.0</td>\n",
       "    </tr>\n",
       "    <tr>\n",
       "      <th>4</th>\n",
       "      <td>Food and beverages</td>\n",
       "      <td>False</td>\n",
       "      <td>310.0</td>\n",
       "    </tr>\n",
       "    <tr>\n",
       "      <th>5</th>\n",
       "      <td>Food and beverages</td>\n",
       "      <td>True</td>\n",
       "      <td>270.0</td>\n",
       "    </tr>\n",
       "    <tr>\n",
       "      <th>6</th>\n",
       "      <td>Health and beauty</td>\n",
       "      <td>False</td>\n",
       "      <td>310.0</td>\n",
       "    </tr>\n",
       "    <tr>\n",
       "      <th>7</th>\n",
       "      <td>Health and beauty</td>\n",
       "      <td>True</td>\n",
       "      <td>278.0</td>\n",
       "    </tr>\n",
       "    <tr>\n",
       "      <th>8</th>\n",
       "      <td>Home and lifestyle</td>\n",
       "      <td>False</td>\n",
       "      <td>310.0</td>\n",
       "    </tr>\n",
       "    <tr>\n",
       "      <th>9</th>\n",
       "      <td>Home and lifestyle</td>\n",
       "      <td>True</td>\n",
       "      <td>506.0</td>\n",
       "    </tr>\n",
       "    <tr>\n",
       "      <th>10</th>\n",
       "      <td>Sports and travel</td>\n",
       "      <td>False</td>\n",
       "      <td>321.0</td>\n",
       "    </tr>\n",
       "    <tr>\n",
       "      <th>11</th>\n",
       "      <td>Sports and travel</td>\n",
       "      <td>True</td>\n",
       "      <td>263.0</td>\n",
       "    </tr>\n",
       "  </tbody>\n",
       "</table>\n",
       "</div>"
      ],
      "text/plain": [
       "              Product_line  Holiday  sales\n",
       "0   Electronic accessories    False  308.0\n",
       "1   Electronic accessories     True  262.0\n",
       "2      Fashion accessories    False  284.0\n",
       "3      Fashion accessories     True  423.0\n",
       "4       Food and beverages    False  310.0\n",
       "5       Food and beverages     True  270.0\n",
       "6        Health and beauty    False  310.0\n",
       "7        Health and beauty     True  278.0\n",
       "8       Home and lifestyle    False  310.0\n",
       "9       Home and lifestyle     True  506.0\n",
       "10       Sports and travel    False  321.0\n",
       "11       Sports and travel     True  263.0"
      ]
     },
     "execution_count": 297,
     "metadata": {},
     "output_type": "execute_result"
    }
   ],
   "source": [
    "prod_line = df[[\"Product_line\", \"Holiday\", \"sales\"]]\n",
    "products_holiday = (\n",
    "    prod_line.groupby([\"Product_line\", \"Holiday\"], as_index=False).mean().round()\n",
    ")\n",
    "products_holiday"
   ]
  },
  {
   "cell_type": "code",
   "execution_count": 298,
   "id": "b0f6ff23",
   "metadata": {
    "scrolled": false
   },
   "outputs": [
    {
     "data": {
      "text/plain": [
       "[Text(0.5, 0, 'Product lines'), Text(0, 0.5, 'AVG day sales')]"
      ]
     },
     "execution_count": 298,
     "metadata": {},
     "output_type": "execute_result"
    },
    {
     "data": {
      "image/png": "[encoded data removed]",
      "text/plain": [
       "<Figure size 864x360 with 1 Axes>"
      ]
     },
     "metadata": {},
     "output_type": "display_data"
    }
   ],
   "source": [
    "plt.figure(figsize=(12, 5))\n",
    "ph_plot = sns.barplot(x=\"Product_line\", y=\"sales\", hue=\"Holiday\", data=products_holiday)\n",
    "ph_plot.set(xlabel=\"Product lines\", ylabel=\"AVG day sales\")"
   ]
  },
  {
   "cell_type": "markdown",
   "id": "6b9dcad3",
   "metadata": {},
   "source": [
    "### Prekybos tinklo padalinių palyginimas"
   ]
  },
  {
   "cell_type": "markdown",
   "id": "e2baf761",
   "metadata": {},
   "source": [
    "Kokie kievieno padalinio pardavimai pamėnesiui?"
   ]
  },
  {
   "cell_type": "code",
   "execution_count": 299,
   "id": "95cf9970",
   "metadata": {},
   "outputs": [
    {
     "data": {
      "text/html": [
       "<div>\n",
       "<style scoped>\n",
       "    .dataframe tbody tr th:only-of-type {\n",
       "        vertical-align: middle;\n",
       "    }\n",
       "\n",
       "    .dataframe tbody tr th {\n",
       "        vertical-align: top;\n",
       "    }\n",
       "\n",
       "    .dataframe thead th {\n",
       "        text-align: right;\n",
       "    }\n",
       "</style>\n",
       "<table border=\"1\" class=\"dataframe\">\n",
       "  <thead>\n",
       "    <tr style=\"text-align: right;\">\n",
       "      <th>Month</th>\n",
       "      <th>Feb</th>\n",
       "      <th>Jan</th>\n",
       "      <th>Mar</th>\n",
       "    </tr>\n",
       "    <tr>\n",
       "      <th>City</th>\n",
       "      <th></th>\n",
       "      <th></th>\n",
       "      <th></th>\n",
       "    </tr>\n",
       "  </thead>\n",
       "  <tbody>\n",
       "    <tr>\n",
       "      <th>Mandalay</th>\n",
       "      <td>32785.02</td>\n",
       "      <td>35405.77</td>\n",
       "      <td>32949.85</td>\n",
       "    </tr>\n",
       "    <tr>\n",
       "      <th>Naypyitaw</th>\n",
       "      <td>31366.65</td>\n",
       "      <td>38509.22</td>\n",
       "      <td>35427.66</td>\n",
       "    </tr>\n",
       "    <tr>\n",
       "      <th>Yangon</th>\n",
       "      <td>28438.21</td>\n",
       "      <td>36839.17</td>\n",
       "      <td>35865.83</td>\n",
       "    </tr>\n",
       "  </tbody>\n",
       "</table>\n",
       "</div>"
      ],
      "text/plain": [
       "Month           Feb       Jan       Mar\n",
       "City                                   \n",
       "Mandalay   32785.02  35405.77  32949.85\n",
       "Naypyitaw  31366.65  38509.22  35427.66\n",
       "Yangon     28438.21  36839.17  35865.83"
      ]
     },
     "execution_count": 299,
     "metadata": {},
     "output_type": "execute_result"
    }
   ],
   "source": [
    "city_branch_sales_month = df.groupby(['City', 'Month'])['sales'].sum()\n",
    "city_branch_sales_month.unstack()"
   ]
  },
  {
   "cell_type": "code",
   "execution_count": 300,
   "id": "d9bdfa74",
   "metadata": {},
   "outputs": [
    {
     "data": {
      "image/png": "[encoded data removed]",
      "text/plain": [
       "<Figure size 648x288 with 1 Axes>"
      ]
     },
     "metadata": {},
     "output_type": "display_data"
    }
   ],
   "source": [
    "cbsm_plot = sns.lineplot(\n",
    "    x=\"Month\", y=\"sales\", hue=\"City\", marker = 'o', data=city_branch_sales_month.to_frame()\n",
    ")\n"
   ]
  },
  {
   "cell_type": "markdown",
   "id": "38090d09",
   "metadata": {},
   "source": [
    "Koks kiekvieno padalinio vidutinis įvertinimas?"
   ]
  },
  {
   "cell_type": "code",
   "execution_count": 301,
   "id": "e0285071",
   "metadata": {},
   "outputs": [
    {
     "data": {
      "text/plain": [
       "City\n",
       "Mandalay     6.82\n",
       "Naypyitaw    7.07\n",
       "Yangon       7.03\n",
       "Name: Rating, dtype: float64"
      ]
     },
     "execution_count": 301,
     "metadata": {},
     "output_type": "execute_result"
    }
   ],
   "source": [
    "city_branch_rating = df.groupby(\"City\")[\"Rating\"].mean().round(2)\n",
    "city_branch_rating"
   ]
  },
  {
   "cell_type": "code",
   "execution_count": 302,
   "id": "c74c0910",
   "metadata": {
    "scrolled": false
   },
   "outputs": [
    {
     "data": {
      "text/plain": [
       "[Text(0, 0, '6.82'), Text(0, 0, '7.07'), Text(0, 0, '7.03')]"
      ]
     },
     "execution_count": 302,
     "metadata": {},
     "output_type": "execute_result"
    },
    {
     "data": {
      "image/png": "[encoded data removed]",
      "text/plain": [
       "<Figure size 648x288 with 1 Axes>"
      ]
     },
     "metadata": {},
     "output_type": "display_data"
    }
   ],
   "source": [
    "cbr_plot = sns.barplot(y=city_branch_rating.values, x=city_branch_rating.index)\n",
    "cbr_plot.bar_label(cbr_plot.containers[0])"
   ]
  },
  {
   "cell_type": "markdown",
   "id": "546e3a3c",
   "metadata": {},
   "source": [
    "Kokius įvertinimus gavo kiekvienas padalinys priklausomai nuo klientų narystės?"
   ]
  },
  {
   "cell_type": "code",
   "execution_count": 303,
   "id": "450f872b",
   "metadata": {},
   "outputs": [
    {
     "data": {
      "text/html": [
       "<div>\n",
       "<style scoped>\n",
       "    .dataframe tbody tr th:only-of-type {\n",
       "        vertical-align: middle;\n",
       "    }\n",
       "\n",
       "    .dataframe tbody tr th {\n",
       "        vertical-align: top;\n",
       "    }\n",
       "\n",
       "    .dataframe thead tr th {\n",
       "        text-align: left;\n",
       "    }\n",
       "\n",
       "    .dataframe thead tr:last-of-type th {\n",
       "        text-align: right;\n",
       "    }\n",
       "</style>\n",
       "<table border=\"1\" class=\"dataframe\">\n",
       "  <thead>\n",
       "    <tr>\n",
       "      <th></th>\n",
       "      <th></th>\n",
       "      <th colspan=\"5\" halign=\"left\">Rating</th>\n",
       "    </tr>\n",
       "    <tr>\n",
       "      <th></th>\n",
       "      <th></th>\n",
       "      <th>min</th>\n",
       "      <th>q1</th>\n",
       "      <th>median</th>\n",
       "      <th>q3</th>\n",
       "      <th>max</th>\n",
       "    </tr>\n",
       "    <tr>\n",
       "      <th>City</th>\n",
       "      <th>Customer_type</th>\n",
       "      <th></th>\n",
       "      <th></th>\n",
       "      <th></th>\n",
       "      <th></th>\n",
       "      <th></th>\n",
       "    </tr>\n",
       "  </thead>\n",
       "  <tbody>\n",
       "    <tr>\n",
       "      <th rowspan=\"2\" valign=\"top\">Mandalay</th>\n",
       "      <th>Member</th>\n",
       "      <td>4.0</td>\n",
       "      <td>5.30</td>\n",
       "      <td>6.5</td>\n",
       "      <td>8.40</td>\n",
       "      <td>10.0</td>\n",
       "    </tr>\n",
       "    <tr>\n",
       "      <th>Normal</th>\n",
       "      <td>4.0</td>\n",
       "      <td>5.45</td>\n",
       "      <td>6.9</td>\n",
       "      <td>8.15</td>\n",
       "      <td>10.0</td>\n",
       "    </tr>\n",
       "    <tr>\n",
       "      <th rowspan=\"2\" valign=\"top\">Naypyitaw</th>\n",
       "      <th>Member</th>\n",
       "      <td>4.0</td>\n",
       "      <td>5.50</td>\n",
       "      <td>7.1</td>\n",
       "      <td>8.50</td>\n",
       "      <td>10.0</td>\n",
       "    </tr>\n",
       "    <tr>\n",
       "      <th>Normal</th>\n",
       "      <td>4.0</td>\n",
       "      <td>5.85</td>\n",
       "      <td>7.1</td>\n",
       "      <td>8.60</td>\n",
       "      <td>9.9</td>\n",
       "    </tr>\n",
       "    <tr>\n",
       "      <th rowspan=\"2\" valign=\"top\">Yangon</th>\n",
       "      <th>Member</th>\n",
       "      <td>4.0</td>\n",
       "      <td>5.60</td>\n",
       "      <td>7.1</td>\n",
       "      <td>8.50</td>\n",
       "      <td>9.9</td>\n",
       "    </tr>\n",
       "    <tr>\n",
       "      <th>Normal</th>\n",
       "      <td>4.0</td>\n",
       "      <td>5.70</td>\n",
       "      <td>7.0</td>\n",
       "      <td>8.50</td>\n",
       "      <td>10.0</td>\n",
       "    </tr>\n",
       "  </tbody>\n",
       "</table>\n",
       "</div>"
      ],
      "text/plain": [
       "                        Rating                         \n",
       "                           min    q1 median    q3   max\n",
       "City      Customer_type                                \n",
       "Mandalay  Member           4.0  5.30    6.5  8.40  10.0\n",
       "          Normal           4.0  5.45    6.9  8.15  10.0\n",
       "Naypyitaw Member           4.0  5.50    7.1  8.50  10.0\n",
       "          Normal           4.0  5.85    7.1  8.60   9.9\n",
       "Yangon    Member           4.0  5.60    7.1  8.50   9.9\n",
       "          Normal           4.0  5.70    7.0  8.50  10.0"
      ]
     },
     "execution_count": 303,
     "metadata": {},
     "output_type": "execute_result"
    }
   ],
   "source": [
    "branch_member_rating = df.groupby([\"City\", \"Customer_type\"]).agg({\"Rating\": [\"min\", q1, \"median\", q3, \"max\"]})\n",
    "branch_member_rating"
   ]
  },
  {
   "cell_type": "code",
   "execution_count": 304,
   "id": "ddee99c1",
   "metadata": {
    "scrolled": true
   },
   "outputs": [
    {
     "data": {
      "text/plain": [
       "<matplotlib.legend.Legend at 0x237ef8d2940>"
      ]
     },
     "execution_count": 304,
     "metadata": {},
     "output_type": "execute_result"
    },
    {
     "data": {
      "image/png": "[encoded data removed]",
      "text/plain": [
       "<Figure size 648x288 with 1 Axes>"
      ]
     },
     "metadata": {},
     "output_type": "display_data"
    }
   ],
   "source": [
    "bmr_plot = sns.violinplot(x=\"City\", y=\"Rating\", data=df, hue=\"Customer_type\")\n",
    "plt.legend(loc=\"upper right\", bbox_to_anchor=(1.25, 1))"
   ]
  },
  {
   "cell_type": "markdown",
   "id": "21bcf3d4",
   "metadata": {},
   "source": [
    "Kokie mokėjimo būdai populiariausi kiekviename padalinyje?"
   ]
  },
  {
   "cell_type": "code",
   "execution_count": 305,
   "id": "1d2e5dfc",
   "metadata": {},
   "outputs": [
    {
     "data": {
      "text/html": [
       "<div>\n",
       "<style scoped>\n",
       "    .dataframe tbody tr th:only-of-type {\n",
       "        vertical-align: middle;\n",
       "    }\n",
       "\n",
       "    .dataframe tbody tr th {\n",
       "        vertical-align: top;\n",
       "    }\n",
       "\n",
       "    .dataframe thead th {\n",
       "        text-align: right;\n",
       "    }\n",
       "</style>\n",
       "<table border=\"1\" class=\"dataframe\">\n",
       "  <thead>\n",
       "    <tr style=\"text-align: right;\">\n",
       "      <th>Payment</th>\n",
       "      <th>Cash</th>\n",
       "      <th>Credit card</th>\n",
       "      <th>Ewallet</th>\n",
       "    </tr>\n",
       "    <tr>\n",
       "      <th>Branch</th>\n",
       "      <th></th>\n",
       "      <th></th>\n",
       "      <th></th>\n",
       "    </tr>\n",
       "  </thead>\n",
       "  <tbody>\n",
       "    <tr>\n",
       "      <th>A</th>\n",
       "      <td>110</td>\n",
       "      <td>104</td>\n",
       "      <td>126</td>\n",
       "    </tr>\n",
       "    <tr>\n",
       "      <th>B</th>\n",
       "      <td>110</td>\n",
       "      <td>109</td>\n",
       "      <td>113</td>\n",
       "    </tr>\n",
       "    <tr>\n",
       "      <th>C</th>\n",
       "      <td>124</td>\n",
       "      <td>98</td>\n",
       "      <td>106</td>\n",
       "    </tr>\n",
       "  </tbody>\n",
       "</table>\n",
       "</div>"
      ],
      "text/plain": [
       "Payment  Cash  Credit card  Ewallet\n",
       "Branch                             \n",
       "A         110          104      126\n",
       "B         110          109      113\n",
       "C         124           98      106"
      ]
     },
     "execution_count": 305,
     "metadata": {},
     "output_type": "execute_result"
    }
   ],
   "source": [
    "branch_pay_type = df.groupby([\"Branch\", \"Payment\"]).size().round(2)\n",
    "branch_pay_type.unstack()"
   ]
  },
  {
   "cell_type": "code",
   "execution_count": 306,
   "id": "b3a8b1e3",
   "metadata": {
    "scrolled": true
   },
   "outputs": [
    {
     "data": {
      "text/plain": [
       "<matplotlib.legend.Legend at 0x237ef8d2dc0>"
      ]
     },
     "execution_count": 306,
     "metadata": {},
     "output_type": "execute_result"
    },
    {
     "data": {
      "image/png": "[encoded data removed]",
      "text/plain": [
       "<Figure size 648x288 with 1 Axes>"
      ]
     },
     "metadata": {},
     "output_type": "display_data"
    }
   ],
   "source": [
    "bpt_plot = sns.countplot(x=\"Payment\", hue=\"City\", data=df).set_title(\n",
    "    \"Payment Channel by Branch\"\n",
    ")\n",
    "plt.legend(loc=\"upper right\", bbox_to_anchor=(1.25, 1))"
   ]
  },
  {
   "cell_type": "markdown",
   "id": "b9cc4d3a",
   "metadata": {},
   "source": [
    "Išvados. \n",
    "Tarp prekybos tinklo klientų moterys, kurios turi narystę, yra linkusios išleisti daugiau per vieną apsipirkimą. Tarp moterų populiariausia produktų linija – “Fashion accessories”, tarp vyrų – “Health and beauty”.\n",
    "Visam tinkle populiariausias atsiskaitymo metodas – ewallet, nežymiai atsilieka atsisikaitymas grynais. Ewallet daugiausia atsiskaito Yangon mieste, grynais – Naypitaw, kreditine kortele  - Mandalay mieste.\n",
    "Daugiausia produktų kiekiškai nuperkama 14h. Maržingiausia produktų linija - “Fashion accessories”, mažiausiai maržinga – “Home and lifestyle”.\n",
    "Didžiausi pardavimai fiksuoti 2019 sausį. Diena su didžiausiai pardavimais – šeštadienis, mažiausiais – pirmadienis. Šventinėmis dienomis nėra pastebimi didesni vidutiniai dienos pardavimai, tačiau išauga išleidžiama pinigų suma “Home and lifestyle” produktų linijai.\n",
    "Nariai yra linkę geriau vertinti apsipirkimo patirtį. Bendrai visų pirkėjų aukščiausia reitinguojamas padalinys Naypitaw mieste.\n"
   ]
  }
 ],
 "metadata": {
  "kernelspec": {
   "display_name": "Python 3 (ipykernel)",
   "language": "python",
   "name": "python3"
  },
  "language_info": {
   "codemirror_mode": {
    "name": "ipython",
    "version": 3
   },
   "file_extension": ".py",
   "mimetype": "text/x-python",
   "name": "python",
   "nbconvert_exporter": "python",
   "pygments_lexer": "ipython3",
   "version": "3.9.12"
  }
 },
 "nbformat": 4,
 "nbformat_minor": 5
}
